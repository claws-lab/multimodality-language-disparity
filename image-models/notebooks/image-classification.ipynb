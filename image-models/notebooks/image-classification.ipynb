{
 "cells": [
  {
   "cell_type": "markdown",
   "metadata": {},
   "source": [
    "# Humanitarian Task Image Classification \n",
    "\n",
    "In this notebook, we use a pre-trained Inception v3 image classifier to classify tweet images for humanitarian task classification."
   ]
  },
  {
   "cell_type": "code",
   "execution_count": 42,
   "metadata": {},
   "outputs": [],
   "source": [
    "import torch\n",
    "import torch.optim as optim\n",
    "import numpy as np\n",
    "import pandas as pd\n",
    "import matplotlib.pyplot as plt\n",
    "import random\n",
    "import os\n",
    "import csv\n",
    "import math\n",
    "import pickle\n",
    "import stanza\n",
    "import cv2\n",
    "import copy\n",
    "import seaborn as sns\n",
    "import time\n",
    "from PIL import Image\n",
    "from sklearn import metrics\n",
    "\n",
    "from torch.utils.data.sampler import BatchSampler, RandomSampler, Sampler, \\\n",
    "    SequentialSampler, SubsetRandomSampler\n",
    "from torch.utils.data import Dataset\n",
    "from torch.nn import functional\n",
    "from torch import nn\n",
    "from tqdm import tqdm\n",
    "from sklearn.metrics import accuracy_score, confusion_matrix, \\\n",
    "    precision_recall_fscore_support\n",
    "from sklearn.model_selection import train_test_split\n",
    "from sklearn.metrics.pairwise import cosine_similarity\n",
    "from collections import defaultdict, OrderedDict, Counter\n",
    "from json import load, dump\n",
    "from torchvision import datasets, models, transforms"
   ]
  },
  {
   "cell_type": "markdown",
   "metadata": {},
   "source": [
    "## 1. Load Datafiles"
   ]
  },
  {
   "cell_type": "code",
   "execution_count": 4,
   "metadata": {},
   "outputs": [],
   "source": [
    "train_split_df = pd.read_csv('./data/crisis-mmd/task_humanitarian_text_img_train.tsv', sep='\\t')"
   ]
  },
  {
   "cell_type": "code",
   "execution_count": 5,
   "metadata": {},
   "outputs": [
    {
     "data": {
      "text/html": [
       "<div>\n",
       "<style scoped>\n",
       "    .dataframe tbody tr th:only-of-type {\n",
       "        vertical-align: middle;\n",
       "    }\n",
       "\n",
       "    .dataframe tbody tr th {\n",
       "        vertical-align: top;\n",
       "    }\n",
       "\n",
       "    .dataframe thead th {\n",
       "        text-align: right;\n",
       "    }\n",
       "</style>\n",
       "<table border=\"1\" class=\"dataframe\">\n",
       "  <thead>\n",
       "    <tr style=\"text-align: right;\">\n",
       "      <th></th>\n",
       "      <th>event_name</th>\n",
       "      <th>tweet_id</th>\n",
       "      <th>image_id</th>\n",
       "      <th>tweet_text</th>\n",
       "      <th>image</th>\n",
       "      <th>label</th>\n",
       "      <th>label_text</th>\n",
       "      <th>label_image</th>\n",
       "      <th>label_text_image</th>\n",
       "    </tr>\n",
       "  </thead>\n",
       "  <tbody>\n",
       "    <tr>\n",
       "      <th>0</th>\n",
       "      <td>california_wildfires</td>\n",
       "      <td>917791291823591425</td>\n",
       "      <td>917791291823591425_1</td>\n",
       "      <td>RT @Cal_OES: PLS SHARE: Weâ€™re capturing wild...</td>\n",
       "      <td>data_image/california_wildfires/10_10_2017/917...</td>\n",
       "      <td>not_humanitarian</td>\n",
       "      <td>other_relevant_information</td>\n",
       "      <td>not_humanitarian</td>\n",
       "      <td>Negative</td>\n",
       "    </tr>\n",
       "    <tr>\n",
       "      <th>1</th>\n",
       "      <td>california_wildfires</td>\n",
       "      <td>917791291823591425</td>\n",
       "      <td>917791291823591425_0</td>\n",
       "      <td>RT @Cal_OES: PLS SHARE: Weâ€™re capturing wild...</td>\n",
       "      <td>data_image/california_wildfires/10_10_2017/917...</td>\n",
       "      <td>other_relevant_information</td>\n",
       "      <td>other_relevant_information</td>\n",
       "      <td>infrastructure_and_utility_damage</td>\n",
       "      <td>Negative</td>\n",
       "    </tr>\n",
       "    <tr>\n",
       "      <th>2</th>\n",
       "      <td>california_wildfires</td>\n",
       "      <td>917793137925459968</td>\n",
       "      <td>917793137925459968_0</td>\n",
       "      <td>RT @KAKEnews: California wildfires destroy mor...</td>\n",
       "      <td>data_image/california_wildfires/10_10_2017/917...</td>\n",
       "      <td>infrastructure_and_utility_damage</td>\n",
       "      <td>infrastructure_and_utility_damage</td>\n",
       "      <td>infrastructure_and_utility_damage</td>\n",
       "      <td>Positive</td>\n",
       "    </tr>\n",
       "    <tr>\n",
       "      <th>3</th>\n",
       "      <td>california_wildfires</td>\n",
       "      <td>917793137925459968</td>\n",
       "      <td>917793137925459968_1</td>\n",
       "      <td>RT @KAKEnews: California wildfires destroy mor...</td>\n",
       "      <td>data_image/california_wildfires/10_10_2017/917...</td>\n",
       "      <td>infrastructure_and_utility_damage</td>\n",
       "      <td>infrastructure_and_utility_damage</td>\n",
       "      <td>infrastructure_and_utility_damage</td>\n",
       "      <td>Positive</td>\n",
       "    </tr>\n",
       "    <tr>\n",
       "      <th>4</th>\n",
       "      <td>california_wildfires</td>\n",
       "      <td>917793137925459968</td>\n",
       "      <td>917793137925459968_2</td>\n",
       "      <td>RT @KAKEnews: California wildfires destroy mor...</td>\n",
       "      <td>data_image/california_wildfires/10_10_2017/917...</td>\n",
       "      <td>infrastructure_and_utility_damage</td>\n",
       "      <td>infrastructure_and_utility_damage</td>\n",
       "      <td>infrastructure_and_utility_damage</td>\n",
       "      <td>Positive</td>\n",
       "    </tr>\n",
       "  </tbody>\n",
       "</table>\n",
       "</div>"
      ],
      "text/plain": [
       "             event_name            tweet_id              image_id  \\\n",
       "0  california_wildfires  917791291823591425  917791291823591425_1   \n",
       "1  california_wildfires  917791291823591425  917791291823591425_0   \n",
       "2  california_wildfires  917793137925459968  917793137925459968_0   \n",
       "3  california_wildfires  917793137925459968  917793137925459968_1   \n",
       "4  california_wildfires  917793137925459968  917793137925459968_2   \n",
       "\n",
       "                                          tweet_text  \\\n",
       "0  RT @Cal_OES: PLS SHARE: Weâ€™re capturing wild...   \n",
       "1  RT @Cal_OES: PLS SHARE: Weâ€™re capturing wild...   \n",
       "2  RT @KAKEnews: California wildfires destroy mor...   \n",
       "3  RT @KAKEnews: California wildfires destroy mor...   \n",
       "4  RT @KAKEnews: California wildfires destroy mor...   \n",
       "\n",
       "                                               image  \\\n",
       "0  data_image/california_wildfires/10_10_2017/917...   \n",
       "1  data_image/california_wildfires/10_10_2017/917...   \n",
       "2  data_image/california_wildfires/10_10_2017/917...   \n",
       "3  data_image/california_wildfires/10_10_2017/917...   \n",
       "4  data_image/california_wildfires/10_10_2017/917...   \n",
       "\n",
       "                               label                         label_text  \\\n",
       "0                   not_humanitarian         other_relevant_information   \n",
       "1         other_relevant_information         other_relevant_information   \n",
       "2  infrastructure_and_utility_damage  infrastructure_and_utility_damage   \n",
       "3  infrastructure_and_utility_damage  infrastructure_and_utility_damage   \n",
       "4  infrastructure_and_utility_damage  infrastructure_and_utility_damage   \n",
       "\n",
       "                         label_image label_text_image  \n",
       "0                   not_humanitarian         Negative  \n",
       "1  infrastructure_and_utility_damage         Negative  \n",
       "2  infrastructure_and_utility_damage         Positive  \n",
       "3  infrastructure_and_utility_damage         Positive  \n",
       "4  infrastructure_and_utility_damage         Positive  "
      ]
     },
     "execution_count": 5,
     "metadata": {},
     "output_type": "execute_result"
    }
   ],
   "source": [
    "train_split_df.head()"
   ]
  },
  {
   "cell_type": "code",
   "execution_count": 6,
   "metadata": {},
   "outputs": [
    {
     "data": {
      "text/plain": [
       "Counter({'not_humanitarian': 5260,\n",
       "         'other_relevant_information': 3294,\n",
       "         'infrastructure_and_utility_damage': 1905,\n",
       "         'vehicle_damage': 134,\n",
       "         'affected_individuals': 424,\n",
       "         'rescue_volunteering_or_donation_effort': 2323,\n",
       "         'injured_or_dead_people': 244,\n",
       "         'missing_or_found_people': 24})"
      ]
     },
     "execution_count": 6,
     "metadata": {},
     "output_type": "execute_result"
    }
   ],
   "source": [
    "labels = Counter(train_split_df['label'])\n",
    "labels"
   ]
  },
  {
   "cell_type": "code",
   "execution_count": 7,
   "metadata": {},
   "outputs": [],
   "source": [
    "label_map = {\n",
    "    'affected_individuals': 0,\n",
    "    'infrastructure_and_utility_damage': 1,\n",
    "    'not_humanitarian': 2,\n",
    "    'other_relevant_information': 3,\n",
    "    'rescue_volunteering_or_donation_effort': 4,\n",
    "    'vehicle_damage': 1,\n",
    "    'injured_or_dead_people': 0,\n",
    "    'missing_or_found_people': 0\n",
    "}"
   ]
  },
  {
   "cell_type": "code",
   "execution_count": 8,
   "metadata": {},
   "outputs": [],
   "source": [
    "def image_transform(image):\n",
    "\n",
    "    h, w, _ = image.shape\n",
    "    target_len = 299\n",
    "    padded_image = np.zeros((target_len, target_len, 3)).astype(int)\n",
    "\n",
    "\n",
    "    if w > h:\n",
    "        # Resize to [] x 299\n",
    "        image = cv2.resize(image, (target_len, math.floor(h / (w / target_len))))\n",
    "        short_len = image.shape[0]\n",
    "\n",
    "        # Pad to 299 x 299\n",
    "        padded_image[math.floor((target_len - short_len) / 2):\n",
    "                     math.floor((target_len - short_len) / 2) + short_len,\n",
    "                     :, :] = image\n",
    "    else:\n",
    "        # Resize to 299 x []\n",
    "        image = cv2.resize(image, (math.floor(w / (h / target_len)), target_len))\n",
    "        short_len = image.shape[1]\n",
    "\n",
    "        # Pad to 299 x 299\n",
    "        padded_image[:, math.floor((target_len - short_len) / 2):\n",
    "                     math.floor((target_len - short_len) / 2) + short_len,\n",
    "                     :] = image\n",
    "    \n",
    "    return padded_image\n",
    "\n",
    "image = cv2.imread('./data/crisis-mmd/{}'.format(train_split_df.iloc[3, 4]))\n",
    "image = cv2.cvtColor(image, cv2.COLOR_BGR2RGB)"
   ]
  },
  {
   "cell_type": "code",
   "execution_count": 84,
   "metadata": {},
   "outputs": [
    {
     "data": {
      "image/png": "[encoded data removed]",
      "text/plain": [
       "<Figure size 432x288 with 1 Axes>"
      ]
     },
     "metadata": {
      "needs_background": "light"
     },
     "output_type": "display_data"
    }
   ],
   "source": [
    "plt.imshow(image)\n",
    "plt.show()"
   ]
  },
  {
   "cell_type": "code",
   "execution_count": 85,
   "metadata": {},
   "outputs": [
    {
     "data": {
      "image/png": "[encoded data removed]",
      "text/plain": [
       "<Figure size 432x288 with 1 Axes>"
      ]
     },
     "metadata": {
      "needs_background": "light"
     },
     "output_type": "display_data"
    }
   ],
   "source": [
    "plt.imshow(image_transform(image))\n",
    "plt.show()"
   ]
  },
  {
   "cell_type": "code",
   "execution_count": 9,
   "metadata": {},
   "outputs": [],
   "source": [
    "class ImageDataset(Dataset):\n",
    "\n",
    "    def __init__(self, tsv_file, root_dir):\n",
    "        \"\"\"\n",
    "        Args:\n",
    "            tsv_file (string): Path to the train/test/dev split tsv file\n",
    "            root_dir (string): Directory with all the images.\n",
    "        \"\"\"\n",
    "        self.file_df = pd.read_csv(tsv_file, sep='\\t')\n",
    "        self.root_dir = root_dir\n",
    "        self.normalize = transforms.Normalize(mean=[0.485, 0.456, 0.406], std=[0.229, 0.224, 0.225])\n",
    "\n",
    "    def __len__(self):\n",
    "        return len(self.file_df)\n",
    "\n",
    "    def __getitem__(self, idx):\n",
    "        if torch.is_tensor(idx):\n",
    "            idx = idx.tolist()\n",
    "\n",
    "        img_name = os.path.join(self.root_dir,\n",
    "                                self.file_df.iloc[idx, 4])\n",
    "        image = cv2.imread(img_name)\n",
    "        image = cv2.cvtColor(image, cv2.COLOR_BGR2RGB)\n",
    "        \n",
    "        # Resize one dimension of image to 299\n",
    "        image = image_transform(image)\n",
    "        \n",
    "        # Swap axis\n",
    "        image = image.transpose((2, 0, 1))\n",
    "        \n",
    "        # Normalize the image\n",
    "        image = image / 255\n",
    "        image = torch.from_numpy(image)\n",
    "        image = self.normalize(image).float()\n",
    "        \n",
    "        # Get the label\n",
    "        label = label_map[self.file_df.iloc[idx, 5]]\n",
    "        \n",
    "        return image, label"
   ]
  },
  {
   "cell_type": "code",
   "execution_count": 10,
   "metadata": {},
   "outputs": [],
   "source": [
    "train_dataset = ImageDataset('./data/crisis-mmd/task_humanitarian_text_img_train.tsv',\n",
    "                             './data/crisis-mmd')"
   ]
  },
  {
   "cell_type": "code",
   "execution_count": 11,
   "metadata": {},
   "outputs": [
    {
     "name": "stdout",
     "output_type": "stream",
     "text": [
      "torch.Size([3, 299, 299]) 2\n"
     ]
    }
   ],
   "source": [
    "for i in train_dataset:\n",
    "    print(i[0].shape, i[1])\n",
    "    break"
   ]
  },
  {
   "cell_type": "markdown",
   "metadata": {},
   "source": [
    "## 2. Fine-tune Inception v3"
   ]
  },
  {
   "cell_type": "code",
   "execution_count": 242,
   "metadata": {},
   "outputs": [],
   "source": [
    "num_classes = 5\n",
    "device = torch.device(\"cuda:0\" if torch.cuda.is_available() else \"cpu\")"
   ]
  },
  {
   "cell_type": "code",
   "execution_count": 243,
   "metadata": {},
   "outputs": [],
   "source": [
    "train_dataset = ImageDataset('./data/crisis-mmd/task_humanitarian_text_img_train.tsv',\n",
    "                             './data/crisis-mmd')\n",
    "dev_dataset = ImageDataset('./data/crisis-mmd/task_humanitarian_text_img_dev.tsv',\n",
    "                             './data/crisis-mmd')\n",
    "test_dataset = ImageDataset('./data/crisis-mmd/task_humanitarian_text_img_test.tsv',\n",
    "                             './data/crisis-mmd')"
   ]
  },
  {
   "cell_type": "code",
   "execution_count": 244,
   "metadata": {},
   "outputs": [],
   "source": [
    "batch_size = 32\n",
    "\n",
    "train_dataset_loader = torch.utils.data.DataLoader(train_dataset,\n",
    "                                                   batch_size=batch_size,\n",
    "                                                   shuffle=True,\n",
    "                                                   num_workers=4)\n",
    "dev_dataset_loader = torch.utils.data.DataLoader(dev_dataset,\n",
    "                                                 batch_size=batch_size,\n",
    "                                                 shuffle=True,\n",
    "                                                 num_workers=4)\n",
    "test_dataset_loader = torch.utils.data.DataLoader(test_dataset,\n",
    "                                                  batch_size=batch_size,\n",
    "                                                  shuffle=True,\n",
    "                                                  num_workers=4)"
   ]
  },
  {
   "cell_type": "code",
   "execution_count": 245,
   "metadata": {},
   "outputs": [
    {
     "name": "stdout",
     "output_type": "stream",
     "text": [
      "torch.Size([32, 3, 299, 299]) tensor([1, 2, 4, 2, 0, 2, 3, 2, 3, 2, 2, 2, 2, 2, 4, 2, 3, 2, 1, 2, 4, 4, 4, 3,\n",
      "        3, 3, 4, 4, 2, 2, 4, 2])\n"
     ]
    }
   ],
   "source": [
    "for inputs, labels in train_dataset_loader:\n",
    "    print(inputs.shape, labels)\n",
    "    break"
   ]
  },
  {
   "cell_type": "code",
   "execution_count": 250,
   "metadata": {},
   "outputs": [],
   "source": [
    "def train_model(model, dataloaders, criterion, optimizer, num_epochs=25,\n",
    "                patience=20, is_inception=True):\n",
    "    val_acc_history = []\n",
    "\n",
    "    best_model_wts = copy.deepcopy(model.state_dict())\n",
    "    best_acc = 0.0\n",
    "    \n",
    "    # Early stopping\n",
    "    es_counter = 0\n",
    "    es = False\n",
    "\n",
    "    for epoch in range(num_epochs):\n",
    "        if es:\n",
    "            break\n",
    "\n",
    "        print('Epoch {}/{}'.format(epoch, num_epochs - 1))\n",
    "        print('-' * 10)\n",
    "\n",
    "        # Each epoch has a training and validation phase\n",
    "        for phase in ['train', 'val']:\n",
    "            if phase == 'train':\n",
    "                model.train()  # Set model to training mode\n",
    "            else:\n",
    "                model.eval()   # Set model to evaluate mode\n",
    "\n",
    "            running_loss = 0.0\n",
    "            running_corrects = 0\n",
    "\n",
    "            # Iterate over data.\n",
    "            for inputs, labels in tqdm(dataloaders[phase], desc=phase):\n",
    "                inputs = inputs.to(device)\n",
    "                labels = labels.to(device)\n",
    "\n",
    "                # zero the parameter gradients\n",
    "                optimizer.zero_grad()\n",
    "\n",
    "                # forward\n",
    "                # track history if only in train\n",
    "                with torch.set_grad_enabled(phase == 'train'):\n",
    "                    # Get model outputs and calculate loss\n",
    "                    # Special case for inception because in training it has an auxiliary output. In train\n",
    "                    #   mode we calculate the loss by summing the final output and the auxiliary output\n",
    "                    #   but in testing we only consider the final output.\n",
    "                    if is_inception and phase == 'train':\n",
    "                        # From https://discuss.pytorch.org/t/how-to-optimize-inception-model-with-auxiliary-classifiers/7958\n",
    "                        outputs, aux_outputs = model(inputs)\n",
    "                        loss1 = criterion(outputs, labels)\n",
    "                        loss2 = criterion(aux_outputs, labels)\n",
    "                        loss = loss1 + 0.4*loss2\n",
    "                    else:\n",
    "                        outputs = model(inputs)\n",
    "                        loss = criterion(outputs, labels)\n",
    "\n",
    "                    _, preds = torch.max(outputs, 1)\n",
    "\n",
    "                    # backward + optimize only if in training phase\n",
    "                    if phase == 'train':\n",
    "                        loss.backward()\n",
    "                        optimizer.step()\n",
    "\n",
    "                # statistics\n",
    "                running_loss += loss.item() * inputs.size(0)\n",
    "                running_corrects += torch.sum(preds == labels.data)\n",
    "\n",
    "            epoch_loss = running_loss / len(dataloaders[phase].dataset)\n",
    "            epoch_acc = running_corrects.double() / len(dataloaders[phase].dataset)\n",
    "\n",
    "            print('{} Loss: {:.4f} Acc: {:.4f}'.format(phase, epoch_loss, epoch_acc))\n",
    "\n",
    "            # deep copy the model\n",
    "            if phase == 'val':\n",
    "                if epoch_acc > best_acc:\n",
    "                    best_acc = epoch_acc\n",
    "                    best_model_wts = copy.deepcopy(model.state_dict())\n",
    "                    es_counter = 0\n",
    "                else:\n",
    "                    es_counter += 1\n",
    "                    if es_counter > patience:\n",
    "                        es = True\n",
    "\n",
    "                val_acc_history.append(epoch_acc)\n",
    "\n",
    "        print()\n",
    "\n",
    "    time_elapsed = time.time() - since\n",
    "    print('Training complete in {:.0f}m {:.0f}s'.format(time_elapsed // 60, time_elapsed % 60))\n",
    "    print('Best val Acc: {:4f}'.format(best_acc))\n",
    "\n",
    "    # load best model weights\n",
    "    model.load_state_dict(best_model_wts)\n",
    "    return model, val_acc_history"
   ]
  },
  {
   "cell_type": "code",
   "execution_count": 247,
   "metadata": {},
   "outputs": [],
   "source": [
    "model_ft = models.inception_v3(pretrained=True)\n",
    "\n",
    "for name, param in model_ft.named_parameters():\n",
    "    \n",
    "    if name not in set(['fc.weight', 'fc.bias', 'AuxLogits.fc.weight', 'AuxLogits.fc.bias']):\n",
    "        param.requires_grad = False\n",
    "    else:\n",
    "        param.requires_grad = True"
   ]
  },
  {
   "cell_type": "code",
   "execution_count": 296,
   "metadata": {},
   "outputs": [],
   "source": [
    "# Handle the auxilary net\n",
    "num_ftrs = model_ft.AuxLogits.fc.in_features\n",
    "model_ft.AuxLogits.fc = nn.Linear(num_ftrs, num_classes)\n",
    "\n",
    "# Handle the primary net\n",
    "num_ftrs = model_ft.fc.in_features\n",
    "model_ft.fc = nn.Linear(num_ftrs,num_classes)\n",
    "\n",
    "model_ft = model_ft.to(device)\n",
    "\n",
    "params_to_update = [p for p in model_ft.parameters() if p.requires_grad]\n",
    "\n",
    "# Observe that all parameters are being optimized\n",
    "optimizer_ft = optim.Adam(params_to_update, lr=1e-6, weight_decay=0.001)\n",
    "criterion = nn.CrossEntropyLoss()"
   ]
  },
  {
   "cell_type": "code",
   "execution_count": 295,
   "metadata": {},
   "outputs": [],
   "source": [
    "# dataloaders = {'train': train_dataset_loader,\n",
    "#                'val': dev_dataset_loader}\n",
    "\n",
    "# model, val_acc_history = train_model(model_ft, dataloaders, criterion,\n",
    "#                                      optimizer_ft, num_epochs=500,\n",
    "#                                      patience=50, is_inception=True)\n",
    "\n",
    "# torch.save(model.state_dict(), './output/best_weights.pk')\n",
    "# dump(val_acc_history, open('./output/val_acc_history.json', 'w'))"
   ]
  },
  {
   "cell_type": "markdown",
   "metadata": {},
   "source": [
    "## VGG-16"
   ]
  },
  {
   "cell_type": "code",
   "execution_count": 12,
   "metadata": {},
   "outputs": [],
   "source": [
    "class ImageDataset(Dataset):\n",
    "\n",
    "    def __init__(self, tsv_file, root_dir):\n",
    "        \"\"\"\n",
    "        Args:\n",
    "            tsv_file (string): Path to the train/test/dev split tsv file\n",
    "            root_dir (string): Directory with all the images.\n",
    "        \"\"\"\n",
    "        self.file_df = pd.read_csv(tsv_file, sep='\\t')\n",
    "        self.root_dir = root_dir\n",
    "        self.normalize = transforms.Normalize(mean=[0.485, 0.456, 0.406], std=[0.229, 0.224, 0.225])\n",
    "        self.resize = transforms.Resize(256)\n",
    "        self.center = transforms.CenterCrop(224)\n",
    "        self.to_tensor = transforms.ToTensor()\n",
    "\n",
    "    def __len__(self):\n",
    "        return len(self.file_df)\n",
    "\n",
    "    def __getitem__(self, idx):\n",
    "        if torch.is_tensor(idx):\n",
    "            idx = idx.tolist()\n",
    "\n",
    "        img_name = os.path.join(self.root_dir,\n",
    "                                self.file_df.iloc[idx, 4])\n",
    "        image = Image.open(img_name).convert('RGB')\n",
    "        \n",
    "        image = self.resize(image)\n",
    "        image = self.center(image)\n",
    "        \n",
    "        image = self.to_tensor(image)\n",
    "        image = self.normalize(image)\n",
    "        \n",
    "        # Get the label\n",
    "        label = label_map[self.file_df.iloc[idx, 5]]\n",
    "        \n",
    "        return image, label"
   ]
  },
  {
   "cell_type": "code",
   "execution_count": 13,
   "metadata": {},
   "outputs": [],
   "source": [
    "num_classes = 5\n",
    "device = torch.device(\"cuda:0\" if torch.cuda.is_available() else \"cpu\")\n",
    "\n",
    "train_dataset = ImageDataset('./data/crisis-mmd/task_humanitarian_text_img_train.tsv',\n",
    "                             './data/crisis-mmd')\n",
    "dev_dataset = ImageDataset('./data/crisis-mmd/task_humanitarian_text_img_dev.tsv',\n",
    "                             './data/crisis-mmd')\n",
    "test_dataset = ImageDataset('./data/crisis-mmd/task_humanitarian_text_img_test.tsv',\n",
    "                             './data/crisis-mmd')"
   ]
  },
  {
   "cell_type": "code",
   "execution_count": 14,
   "metadata": {},
   "outputs": [],
   "source": [
    "batch_size = 32\n",
    "\n",
    "train_dataset_loader = torch.utils.data.DataLoader(train_dataset,\n",
    "                                                   batch_size=batch_size,\n",
    "                                                   shuffle=True,\n",
    "                                                   num_workers=4)\n",
    "dev_dataset_loader = torch.utils.data.DataLoader(dev_dataset,\n",
    "                                                 batch_size=batch_size,\n",
    "                                                 shuffle=True,\n",
    "                                                 num_workers=4)\n",
    "test_dataset_loader = torch.utils.data.DataLoader(test_dataset,\n",
    "                                                  batch_size=batch_size,\n",
    "                                                  shuffle=True,\n",
    "                                                  num_workers=4)"
   ]
  },
  {
   "cell_type": "code",
   "execution_count": 290,
   "metadata": {},
   "outputs": [
    {
     "name": "stdout",
     "output_type": "stream",
     "text": [
      "torch.Size([32, 3, 224, 224]) tensor(2.6400) tensor([2, 2, 2, 3, 4, 3, 2, 0, 2, 0, 1, 3, 1, 3, 1, 1, 1, 4, 2, 2, 2, 2, 4, 2,\n",
      "        2, 1, 4, 3, 4, 2, 4, 2])\n"
     ]
    }
   ],
   "source": [
    "for inputs, labels in train_dataset_loader:\n",
    "    print(inputs.shape, torch.max(inputs), labels)\n",
    "    break"
   ]
  },
  {
   "cell_type": "code",
   "execution_count": 291,
   "metadata": {},
   "outputs": [],
   "source": [
    "def train_model(model, dataloaders, criterion, optimizer, num_epochs=25, patience=20):\n",
    "    val_acc_history = []\n",
    "\n",
    "    best_model_wts = copy.deepcopy(model.state_dict())\n",
    "    best_acc = 0.0\n",
    "    \n",
    "    # Early stopping\n",
    "    es_counter = 0\n",
    "    es = False\n",
    "\n",
    "    for epoch in range(num_epochs):\n",
    "        if es:\n",
    "            break\n",
    "\n",
    "        print('Epoch {}/{}'.format(epoch, num_epochs - 1))\n",
    "        print('-' * 10)\n",
    "\n",
    "        # Each epoch has a training and validation phase\n",
    "        for phase in ['train', 'val']:\n",
    "            if phase == 'train':\n",
    "                model.train()  # Set model to training mode\n",
    "            else:\n",
    "                model.eval()   # Set model to evaluate mode\n",
    "\n",
    "            running_loss = 0.0\n",
    "            running_corrects = 0\n",
    "\n",
    "            # Iterate over data.\n",
    "            for inputs, labels in tqdm(dataloaders[phase], desc=phase):\n",
    "                inputs = inputs.to(device)\n",
    "                labels = labels.to(device)\n",
    "\n",
    "                # zero the parameter gradients\n",
    "                optimizer.zero_grad()\n",
    "\n",
    "                # forward\n",
    "                # track history if only in train\n",
    "                with torch.set_grad_enabled(phase == 'train'):\n",
    "                    # Get model outputs and calculate loss\n",
    "                    # Special case for inception because in training it has an auxiliary output. In train\n",
    "                    #   mode we calculate the loss by summing the final output and the auxiliary output\n",
    "                    #   but in testing we only consider the final output.\n",
    "\n",
    "                    outputs = model(inputs)\n",
    "                    loss = criterion(outputs, labels)\n",
    "\n",
    "                    _, preds = torch.max(outputs, 1)\n",
    "\n",
    "                    # backward + optimize only if in training phase\n",
    "                    if phase == 'train':\n",
    "                        loss.backward()\n",
    "                        optimizer.step()\n",
    "\n",
    "                # statistics\n",
    "                running_loss += loss.item() * inputs.size(0)\n",
    "                running_corrects += torch.sum(preds == labels.data)\n",
    "\n",
    "            epoch_loss = running_loss / len(dataloaders[phase].dataset)\n",
    "            epoch_acc = running_corrects.double() / len(dataloaders[phase].dataset)\n",
    "\n",
    "            print('{} Loss: {:.4f} Acc: {:.4f}'.format(phase, epoch_loss, epoch_acc))\n",
    "\n",
    "            # deep copy the model\n",
    "            if phase == 'val':\n",
    "                if epoch_acc > best_acc:\n",
    "                    best_acc = epoch_acc\n",
    "                    best_model_wts = copy.deepcopy(model.state_dict())\n",
    "                    es_counter = 0\n",
    "                else:\n",
    "                    es_counter += 1\n",
    "                    if es_counter > patience:\n",
    "                        es = True\n",
    "\n",
    "                val_acc_history.append(epoch_acc)\n",
    "\n",
    "        print()\n",
    "\n",
    "    print('Best val Acc: {:4f}'.format(best_acc))\n",
    "\n",
    "    # load best model weights\n",
    "    model.load_state_dict(best_model_wts)\n",
    "    return model, val_acc_history"
   ]
  },
  {
   "cell_type": "code",
   "execution_count": 44,
   "metadata": {},
   "outputs": [],
   "source": [
    "model = models.vgg16(pretrained=True)\n",
    "\n",
    "# Freeze model weights\n",
    "for param in model.parameters():\n",
    "    param.requires_grad = False\n",
    "    \n",
    "# Add on classifier\n",
    "model.classifier[6] = nn.Sequential(\n",
    "                      nn.Linear(4096, 256), \n",
    "                      nn.ReLU(), \n",
    "                      nn.Dropout(0.4),\n",
    "                      nn.Linear(256, num_classes))\n",
    "\n",
    "model = model.to(device)\n",
    "\n",
    "params_to_update = [p for p in model.parameters() if p.requires_grad]\n",
    "\n",
    "# Observe that all parameters are being optimized\n",
    "optimizer_ft = optim.Adam(params_to_update, lr=1e-4)\n",
    "criterion = nn.CrossEntropyLoss()"
   ]
  },
  {
   "cell_type": "code",
   "execution_count": 294,
   "metadata": {},
   "outputs": [
    {
     "name": "stderr",
     "output_type": "stream",
     "text": [
      "train:   0%|          | 0/426 [00:00<?, ?it/s]"
     ]
    },
    {
     "name": "stdout",
     "output_type": "stream",
     "text": [
      "Epoch 0/199\n",
      "----------\n"
     ]
    },
    {
     "name": "stderr",
     "output_type": "stream",
     "text": [
      "train:   2%|▏         | 9/426 [00:02<01:37,  4.29it/s]\n"
     ]
    },
    {
     "ename": "KeyboardInterrupt",
     "evalue": "",
     "output_type": "error",
     "traceback": [
      "\u001b[0;31m---------------------------------------------------------------------------\u001b[0m",
      "\u001b[0;31mKeyboardInterrupt\u001b[0m                         Traceback (most recent call last)",
      "\u001b[0;32m<ipython-input-294-a88a49b7fa6b>\u001b[0m in \u001b[0;36m<module>\u001b[0;34m\u001b[0m\n\u001b[1;32m      4\u001b[0m model, val_acc_history = train_model(model, dataloaders, criterion,\n\u001b[1;32m      5\u001b[0m                                      \u001b[0moptimizer_ft\u001b[0m\u001b[0;34m,\u001b[0m \u001b[0mnum_epochs\u001b[0m\u001b[0;34m=\u001b[0m\u001b[0;36m200\u001b[0m\u001b[0;34m,\u001b[0m\u001b[0;34m\u001b[0m\u001b[0;34m\u001b[0m\u001b[0m\n\u001b[0;32m----> 6\u001b[0;31m                                      patience=20)\n\u001b[0m\u001b[1;32m      7\u001b[0m \u001b[0;34m\u001b[0m\u001b[0m\n\u001b[1;32m      8\u001b[0m \u001b[0mtorch\u001b[0m\u001b[0;34m.\u001b[0m\u001b[0msave\u001b[0m\u001b[0;34m(\u001b[0m\u001b[0mmodel\u001b[0m\u001b[0;34m.\u001b[0m\u001b[0mstate_dict\u001b[0m\u001b[0;34m(\u001b[0m\u001b[0;34m)\u001b[0m\u001b[0;34m,\u001b[0m \u001b[0;34m'./output/best_weights.pk'\u001b[0m\u001b[0;34m)\u001b[0m\u001b[0;34m\u001b[0m\u001b[0;34m\u001b[0m\u001b[0m\n",
      "\u001b[0;32m<ipython-input-291-f9ca86d42424>\u001b[0m in \u001b[0;36mtrain_model\u001b[0;34m(model, dataloaders, criterion, optimizer, num_epochs, patience)\u001b[0m\n\u001b[1;32m     53\u001b[0m \u001b[0;34m\u001b[0m\u001b[0m\n\u001b[1;32m     54\u001b[0m                 \u001b[0;31m# statistics\u001b[0m\u001b[0;34m\u001b[0m\u001b[0;34m\u001b[0m\u001b[0;34m\u001b[0m\u001b[0m\n\u001b[0;32m---> 55\u001b[0;31m                 \u001b[0mrunning_loss\u001b[0m \u001b[0;34m+=\u001b[0m \u001b[0mloss\u001b[0m\u001b[0;34m.\u001b[0m\u001b[0mitem\u001b[0m\u001b[0;34m(\u001b[0m\u001b[0;34m)\u001b[0m \u001b[0;34m*\u001b[0m \u001b[0minputs\u001b[0m\u001b[0;34m.\u001b[0m\u001b[0msize\u001b[0m\u001b[0;34m(\u001b[0m\u001b[0;36m0\u001b[0m\u001b[0;34m)\u001b[0m\u001b[0;34m\u001b[0m\u001b[0;34m\u001b[0m\u001b[0m\n\u001b[0m\u001b[1;32m     56\u001b[0m                 \u001b[0mrunning_corrects\u001b[0m \u001b[0;34m+=\u001b[0m \u001b[0mtorch\u001b[0m\u001b[0;34m.\u001b[0m\u001b[0msum\u001b[0m\u001b[0;34m(\u001b[0m\u001b[0mpreds\u001b[0m \u001b[0;34m==\u001b[0m \u001b[0mlabels\u001b[0m\u001b[0;34m.\u001b[0m\u001b[0mdata\u001b[0m\u001b[0;34m)\u001b[0m\u001b[0;34m\u001b[0m\u001b[0;34m\u001b[0m\u001b[0m\n\u001b[1;32m     57\u001b[0m \u001b[0;34m\u001b[0m\u001b[0m\n",
      "\u001b[0;31mKeyboardInterrupt\u001b[0m: "
     ]
    }
   ],
   "source": [
    "dataloaders = {'train': train_dataset_loader,\n",
    "               'val': dev_dataset_loader}\n",
    "\n",
    "model, val_acc_history = train_model(model, dataloaders, criterion,\n",
    "                                     optimizer_ft, num_epochs=200,\n",
    "                                     patience=30)\n",
    "\n",
    "torch.save(model.state_dict(), './output/best_weights.pk')\n",
    "# dump(val_acc_history, open('./output/val_acc_history.json', 'w'))"
   ]
  },
  {
   "cell_type": "markdown",
   "metadata": {},
   "source": [
    "## 3. Analysis"
   ]
  },
  {
   "cell_type": "code",
   "execution_count": 15,
   "metadata": {},
   "outputs": [],
   "source": [
    "model = models.vgg16(pretrained=True)\n",
    "\n",
    "# Freeze model weights\n",
    "for param in model.parameters():\n",
    "    param.requires_grad = False\n",
    "    \n",
    "# Add on classifier\n",
    "model.classifier[6] = nn.Sequential(\n",
    "                      nn.Linear(4096, 256), \n",
    "                      nn.ReLU(), \n",
    "                      nn.Dropout(0.4),\n",
    "                      nn.Linear(256, num_classes))\n",
    "\n",
    "model.load_state_dict(torch.load('./output/best_weights.pk'))\n",
    "model = model.to(device)"
   ]
  },
  {
   "cell_type": "code",
   "execution_count": 305,
   "metadata": {},
   "outputs": [],
   "source": [
    "batch_size = 32\n",
    "\n",
    "test_dataset_loader = torch.utils.data.DataLoader(test_dataset,\n",
    "                                                  batch_size=batch_size,\n",
    "                                                  shuffle=True,\n",
    "                                                  num_workers=4)"
   ]
  },
  {
   "cell_type": "code",
   "execution_count": 311,
   "metadata": {},
   "outputs": [
    {
     "name": "stderr",
     "output_type": "stream",
     "text": [
      "100%|██████████| 70/70 [00:08<00:00,  8.00it/s]\n"
     ]
    }
   ],
   "source": [
    "predictions = []\n",
    "true_labels = []\n",
    "\n",
    "for inputs, labels in tqdm(test_dataset_loader):\n",
    "    inputs = inputs.to(device)\n",
    "    labels = labels.to(device)\n",
    "\n",
    "\n",
    "    outputs = model(inputs)\n",
    "    loss = criterion(outputs, labels)\n",
    "\n",
    "    _, preds = torch.max(outputs, 1)\n",
    "    \n",
    "    predictions.extend(preds.cpu().numpy().tolist())\n",
    "    true_labels.extend(labels.cpu().numpy().tolist())\n"
   ]
  },
  {
   "cell_type": "code",
   "execution_count": 322,
   "metadata": {},
   "outputs": [
    {
     "data": {
      "image/png": "[encoded data removed]",
      "text/plain": [
       "<Figure size 432x288 with 2 Axes>"
      ]
     },
     "metadata": {
      "needs_background": "light"
     },
     "output_type": "display_data"
    }
   ],
   "source": [
    "import seaborn as sns;\n",
    "\n",
    "confusion = metrics.confusion_matrix(true_labels, predictions)\n",
    "\n",
    "\n",
    "ticks = ['affected_individuals', 'infrastructure',\n",
    "         'not_humanitarian', 'other_relevant_information',\n",
    "         'rescue_volunteering']\n",
    "\n",
    "plt.title('Confusion Matrix')\n",
    "ax = sns.heatmap(confusion, annot=True, fmt=\"d\", cmap=\"YlGnBu\", square=True,\n",
    "                 xticklabels=ticks, yticklabels=ticks)"
   ]
  },
  {
   "cell_type": "code",
   "execution_count": 326,
   "metadata": {},
   "outputs": [
    {
     "name": "stdout",
     "output_type": "stream",
     "text": [
      "13608 2237 2237\n"
     ]
    }
   ],
   "source": [
    "print(len(train_dataset), len(dev_dataset), len(test_dataset))"
   ]
  },
  {
   "cell_type": "code",
   "execution_count": 328,
   "metadata": {},
   "outputs": [
    {
     "data": {
      "text/plain": [
       "0.5265981224854717"
      ]
     },
     "execution_count": 328,
     "metadata": {},
     "output_type": "execute_result"
    }
   ],
   "source": [
    "metrics.accuracy_score(true_labels, predictions)"
   ]
  },
  {
   "cell_type": "code",
   "execution_count": 331,
   "metadata": {},
   "outputs": [
    {
     "data": {
      "text/plain": [
       "0.42448501211138556"
      ]
     },
     "execution_count": 331,
     "metadata": {},
     "output_type": "execute_result"
    }
   ],
   "source": [
    "metrics.f1_score(true_labels, predictions, average='macro')"
   ]
  },
  {
   "cell_type": "code",
   "execution_count": 333,
   "metadata": {},
   "outputs": [
    {
     "data": {
      "text/plain": [
       "0.4569076294407236"
      ]
     },
     "execution_count": 333,
     "metadata": {},
     "output_type": "execute_result"
    }
   ],
   "source": [
    "metrics.precision_score(true_labels, predictions, average='macro')"
   ]
  },
  {
   "cell_type": "code",
   "execution_count": 335,
   "metadata": {},
   "outputs": [
    {
     "data": {
      "text/plain": [
       "0.4249967919288039"
      ]
     },
     "execution_count": 335,
     "metadata": {},
     "output_type": "execute_result"
    }
   ],
   "source": [
    "metrics.recall_score(true_labels, predictions, average='macro')"
   ]
  },
  {
   "cell_type": "markdown",
   "metadata": {},
   "source": [
    "## Extract Last Layer Feature"
   ]
  },
  {
   "cell_type": "code",
   "execution_count": 349,
   "metadata": {},
   "outputs": [
    {
     "data": {
      "text/plain": [
       "Linear(in_features=4096, out_features=4096, bias=True)"
      ]
     },
     "execution_count": 349,
     "metadata": {},
     "output_type": "execute_result"
    }
   ],
   "source": [
    "model.classifier._modules['6'][0]\n",
    "model.classifier._modules['3']"
   ]
  },
  {
   "cell_type": "code",
   "execution_count": 372,
   "metadata": {},
   "outputs": [],
   "source": [
    "class ImageDatasetExtract(Dataset):\n",
    "\n",
    "    def __init__(self, tsv_file, root_dir):\n",
    "        \"\"\"\n",
    "        Args:\n",
    "            tsv_file (string): Path to the train/test/dev split tsv file\n",
    "            root_dir (string): Directory with all the images.\n",
    "        \"\"\"\n",
    "        self.file_df = pd.read_csv(tsv_file, sep='\\t')\n",
    "        self.root_dir = root_dir\n",
    "        self.normalize = transforms.Normalize(mean=[0.485, 0.456, 0.406], std=[0.229, 0.224, 0.225])\n",
    "        self.resize = transforms.Resize(256)\n",
    "        self.center = transforms.CenterCrop(224)\n",
    "        self.to_tensor = transforms.ToTensor()\n",
    "\n",
    "    def __len__(self):\n",
    "        return len(self.file_df)\n",
    "\n",
    "    def __getitem__(self, idx):\n",
    "        if torch.is_tensor(idx):\n",
    "            idx = idx.tolist()\n",
    "\n",
    "        img_name = os.path.join(self.root_dir,\n",
    "                                self.file_df.iloc[idx, 4])\n",
    "        image = Image.open(img_name).convert('RGB')\n",
    "        \n",
    "        image = self.resize(image)\n",
    "        image = self.center(image)\n",
    "        \n",
    "        image = self.to_tensor(image)\n",
    "        image = self.normalize(image)\n",
    "        \n",
    "        # Get the label\n",
    "        label = label_map[self.file_df.iloc[idx, 5]]\n",
    "        \n",
    "        tid = self.file_df.iloc[idx, 1]\n",
    "        \n",
    "        return image, label, tid"
   ]
  },
  {
   "cell_type": "code",
   "execution_count": 373,
   "metadata": {},
   "outputs": [],
   "source": [
    "num_classes = 5\n",
    "device = torch.device(\"cuda:0\" if torch.cuda.is_available() else \"cpu\")\n",
    "\n",
    "train_dataset = ImageDatasetExtract('./data/crisis-mmd/task_humanitarian_text_img_train.tsv',\n",
    "                             './data/crisis-mmd')\n",
    "dev_dataset = ImageDatasetExtract('./data/crisis-mmd/task_humanitarian_text_img_dev.tsv',\n",
    "                             './data/crisis-mmd')\n",
    "test_dataset = ImageDatasetExtract('./data/crisis-mmd/task_humanitarian_text_img_test.tsv',\n",
    "                             './data/crisis-mmd')"
   ]
  },
  {
   "cell_type": "code",
   "execution_count": 374,
   "metadata": {},
   "outputs": [],
   "source": [
    "batch_size = 32\n",
    "\n",
    "train_dataset_loader = torch.utils.data.DataLoader(train_dataset,\n",
    "                                                  batch_size=batch_size,\n",
    "                                                  shuffle=True,\n",
    "                                                  num_workers=4)\n",
    "\n",
    "dev_dataset_loader = torch.utils.data.DataLoader(dev_dataset,\n",
    "                                                  batch_size=batch_size,\n",
    "                                                  shuffle=True,\n",
    "                                                  num_workers=4)\n",
    "\n",
    "test_dataset_loader = torch.utils.data.DataLoader(test_dataset,\n",
    "                                                  batch_size=batch_size,\n",
    "                                                  shuffle=True,\n",
    "                                                  num_workers=4)"
   ]
  },
  {
   "cell_type": "code",
   "execution_count": 399,
   "metadata": {},
   "outputs": [],
   "source": [
    "model = models.vgg16(pretrained=True)\n",
    "\n",
    "# Freeze model weights\n",
    "for param in model.parameters():\n",
    "    param.requires_grad = False\n",
    "    \n",
    "# Add on classifier\n",
    "model.classifier[6] = nn.Sequential(\n",
    "                      nn.Linear(4096, 256), \n",
    "                      nn.ReLU(), \n",
    "                      nn.Dropout(0.4),\n",
    "                      nn.Linear(256, num_classes))\n",
    "\n",
    "model.load_state_dict(torch.load('./output/best_weights.pk'))\n",
    "model = model.to(device)"
   ]
  },
  {
   "cell_type": "code",
   "execution_count": 400,
   "metadata": {},
   "outputs": [
    {
     "data": {
      "text/plain": [
       "<torch.utils.hooks.RemovableHandle at 0x7f239475a310>"
      ]
     },
     "execution_count": 400,
     "metadata": {},
     "output_type": "execute_result"
    }
   ],
   "source": [
    "output_256 = []\n",
    "output_256_tid = []\n",
    "\n",
    "def get_output(self, input, output):\n",
    "    cur_output = output.data.detach().cpu().numpy()\n",
    "    for i in range(cur_output.shape[0]):\n",
    "        output_256.append(cur_output[i, :])\n",
    "\n",
    "model.classifier._modules['6'][0].register_forward_hook(get_output)"
   ]
  },
  {
   "cell_type": "code",
   "execution_count": 401,
   "metadata": {},
   "outputs": [
    {
     "name": "stderr",
     "output_type": "stream",
     "text": [
      "100%|██████████| 70/70 [00:08<00:00,  7.94it/s]\n"
     ]
    }
   ],
   "source": [
    "for inputs, labels, tids in tqdm(test_dataset_loader):\n",
    "    inputs = inputs.to(device)\n",
    "    labels = labels.to(device)\n",
    "    output_256_tid.extend(tids.detach().cpu().numpy().tolist())\n",
    "\n",
    "    outputs = model(inputs)"
   ]
  },
  {
   "cell_type": "code",
   "execution_count": 404,
   "metadata": {},
   "outputs": [],
   "source": [
    "np.savez_compressed('./data/image_embedding_256_test.npz',\n",
    "                    image_embedding=output_256,\n",
    "                    image_tweetID=output_256_tid)"
   ]
  },
  {
   "cell_type": "code",
   "execution_count": 405,
   "metadata": {},
   "outputs": [
    {
     "name": "stderr",
     "output_type": "stream",
     "text": [
      " 76%|███████▌  | 53/70 [00:06<00:02,  8.47it/s]/nethome/zwang3049/jay/miniconda3/envs/nlp/lib/python3.7/site-packages/PIL/Image.py:961: UserWarning: Palette images with Transparency expressed in bytes should be converted to RGBA images\n",
      "  \"Palette images with Transparency expressed in bytes should be \"\n",
      "100%|██████████| 70/70 [00:08<00:00,  7.89it/s]\n"
     ]
    }
   ],
   "source": [
    "model = models.vgg16(pretrained=True)\n",
    "\n",
    "# Freeze model weights\n",
    "for param in model.parameters():\n",
    "    param.requires_grad = False\n",
    "    \n",
    "# Add on classifier\n",
    "model.classifier[6] = nn.Sequential(\n",
    "                      nn.Linear(4096, 256), \n",
    "                      nn.ReLU(), \n",
    "                      nn.Dropout(0.4),\n",
    "                      nn.Linear(256, num_classes))\n",
    "\n",
    "model.load_state_dict(torch.load('./output/best_weights.pk'))\n",
    "model = model.to(device)\n",
    "\n",
    "output_256 = []\n",
    "output_256_tid = []\n",
    "\n",
    "def get_output(self, input, output):\n",
    "    cur_output = output.data.detach().cpu().numpy()\n",
    "    for i in range(cur_output.shape[0]):\n",
    "        output_256.append(cur_output[i, :])\n",
    "\n",
    "model.classifier._modules['6'][0].register_forward_hook(get_output)\n",
    "\n",
    "for inputs, labels, tids in tqdm(dev_dataset_loader):\n",
    "    inputs = inputs.to(device)\n",
    "    labels = labels.to(device)\n",
    "    output_256_tid.extend(tids.detach().cpu().numpy().tolist())\n",
    "\n",
    "    outputs = model(inputs)"
   ]
  },
  {
   "cell_type": "code",
   "execution_count": 406,
   "metadata": {},
   "outputs": [
    {
     "name": "stdout",
     "output_type": "stream",
     "text": [
      "2237 2237\n"
     ]
    }
   ],
   "source": [
    "print(len(output_256_tid), len(output_256))"
   ]
  },
  {
   "cell_type": "code",
   "execution_count": 407,
   "metadata": {},
   "outputs": [],
   "source": [
    "np.savez_compressed('./data/image_embedding_256_dev.npz',\n",
    "                    image_embedding=output_256,\n",
    "                    image_tweetID=output_256_tid)"
   ]
  },
  {
   "cell_type": "code",
   "execution_count": 409,
   "metadata": {},
   "outputs": [
    {
     "name": "stderr",
     "output_type": "stream",
     "text": [
      " 81%|████████  | 344/426 [00:42<00:09,  8.85it/s]/nethome/zwang3049/jay/miniconda3/envs/nlp/lib/python3.7/site-packages/PIL/Image.py:961: UserWarning: Palette images with Transparency expressed in bytes should be converted to RGBA images\n",
      "  \"Palette images with Transparency expressed in bytes should be \"\n",
      "100%|██████████| 426/426 [00:51<00:00,  8.19it/s]\n"
     ]
    }
   ],
   "source": [
    "model = models.vgg16(pretrained=True)\n",
    "\n",
    "# Freeze model weights\n",
    "for param in model.parameters():\n",
    "    param.requires_grad = False\n",
    "    \n",
    "# Add on classifier\n",
    "model.classifier[6] = nn.Sequential(\n",
    "                      nn.Linear(4096, 256), \n",
    "                      nn.ReLU(), \n",
    "                      nn.Dropout(0.4),\n",
    "                      nn.Linear(256, num_classes))\n",
    "\n",
    "model.load_state_dict(torch.load('./output/best_weights.pk'))\n",
    "model = model.to(device)\n",
    "\n",
    "output_256 = []\n",
    "output_256_tid = []\n",
    "\n",
    "def get_output(self, input, output):\n",
    "    cur_output = output.data.detach().cpu().numpy()\n",
    "    for i in range(cur_output.shape[0]):\n",
    "        output_256.append(cur_output[i, :])\n",
    "\n",
    "model.classifier._modules['6'][0].register_forward_hook(get_output)\n",
    "\n",
    "for inputs, labels, tids in tqdm(train_dataset_loader):\n",
    "    inputs = inputs.to(device)\n",
    "    labels = labels.to(device)\n",
    "    output_256_tid.extend(tids.detach().cpu().numpy().tolist())\n",
    "\n",
    "    outputs = model(inputs)"
   ]
  },
  {
   "cell_type": "code",
   "execution_count": 410,
   "metadata": {},
   "outputs": [
    {
     "name": "stdout",
     "output_type": "stream",
     "text": [
      "13608 13608\n"
     ]
    }
   ],
   "source": [
    "print(len(output_256_tid), len(output_256))"
   ]
  },
  {
   "cell_type": "code",
   "execution_count": 411,
   "metadata": {},
   "outputs": [],
   "source": [
    "np.savez_compressed('./data/image_embedding_256_train.npz',\n",
    "                    image_embedding=output_256,\n",
    "                    image_tweetID=output_256_tid)"
   ]
  },
  {
   "cell_type": "code",
   "execution_count": 412,
   "metadata": {},
   "outputs": [],
   "source": [
    "tt = np.load('./data/image_embedding_256_test.npz')"
   ]
  },
  {
   "cell_type": "code",
   "execution_count": 414,
   "metadata": {},
   "outputs": [
    {
     "data": {
      "text/plain": [
       "(2237, 256)"
      ]
     },
     "execution_count": 414,
     "metadata": {},
     "output_type": "execute_result"
    }
   ],
   "source": [
    "tt['image_embedding'].shape"
   ]
  },
  {
   "cell_type": "code",
   "execution_count": 415,
   "metadata": {},
   "outputs": [
    {
     "data": {
      "text/plain": [
       "(2237,)"
      ]
     },
     "execution_count": 415,
     "metadata": {},
     "output_type": "execute_result"
    }
   ],
   "source": [
    "tt['image_tweetID'].shape"
   ]
  },
  {
   "cell_type": "markdown",
   "metadata": {},
   "source": [
    "## Extract Classification Probabilities"
   ]
  },
  {
   "cell_type": "code",
   "execution_count": 16,
   "metadata": {},
   "outputs": [],
   "source": [
    "model = models.vgg16(pretrained=True)\n",
    "\n",
    "# Freeze model weights\n",
    "for param in model.parameters():\n",
    "    param.requires_grad = False\n",
    "    \n",
    "# Add on classifier\n",
    "model.classifier[6] = nn.Sequential(\n",
    "                      nn.Linear(4096, 256), \n",
    "                      nn.ReLU(), \n",
    "                      nn.Dropout(0.4),\n",
    "                      nn.Linear(256, num_classes))\n",
    "\n",
    "model.load_state_dict(torch.load('./output/best_weights.pk'))\n",
    "model = model.to(device)"
   ]
  },
  {
   "cell_type": "code",
   "execution_count": 35,
   "metadata": {},
   "outputs": [],
   "source": [
    "class ImageDatasetExtract(Dataset):\n",
    "\n",
    "    def __init__(self, tsv_file, root_dir):\n",
    "        \"\"\"\n",
    "        Args:\n",
    "            tsv_file (string): Path to the train/test/dev split tsv file\n",
    "            root_dir (string): Directory with all the images.\n",
    "        \"\"\"\n",
    "        self.file_df = pd.read_csv(tsv_file, sep='\\t')\n",
    "        self.root_dir = root_dir\n",
    "        self.normalize = transforms.Normalize(mean=[0.485, 0.456, 0.406], std=[0.229, 0.224, 0.225])\n",
    "        self.resize = transforms.Resize(256)\n",
    "        self.center = transforms.CenterCrop(224)\n",
    "        self.to_tensor = transforms.ToTensor()\n",
    "\n",
    "    def __len__(self):\n",
    "        return len(self.file_df)\n",
    "\n",
    "    def __getitem__(self, idx):\n",
    "        if torch.is_tensor(idx):\n",
    "            idx = idx.tolist()\n",
    "\n",
    "        img_name = os.path.join(self.root_dir,\n",
    "                                self.file_df.iloc[idx, 4])\n",
    "        image = Image.open(img_name).convert('RGB')\n",
    "        \n",
    "        image = self.resize(image)\n",
    "        image = self.center(image)\n",
    "        \n",
    "        image = self.to_tensor(image)\n",
    "        image = self.normalize(image)\n",
    "        \n",
    "        # Get the label\n",
    "        label = label_map[self.file_df.iloc[idx, 5]]\n",
    "        \n",
    "        tid = self.file_df.iloc[idx, 1]\n",
    "        \n",
    "        return image, label, tid"
   ]
  },
  {
   "cell_type": "code",
   "execution_count": 36,
   "metadata": {},
   "outputs": [],
   "source": [
    "num_classes = 5\n",
    "device = torch.device(\"cuda:0\" if torch.cuda.is_available() else \"cpu\")\n",
    "\n",
    "train_dataset = ImageDatasetExtract('./data/crisis-mmd/task_humanitarian_text_img_train.tsv',\n",
    "                             './data/crisis-mmd')\n",
    "dev_dataset = ImageDatasetExtract('./data/crisis-mmd/task_humanitarian_text_img_dev.tsv',\n",
    "                             './data/crisis-mmd')\n",
    "test_dataset = ImageDatasetExtract('./data/crisis-mmd/task_humanitarian_text_img_test.tsv',\n",
    "                             './data/crisis-mmd')"
   ]
  },
  {
   "cell_type": "code",
   "execution_count": 37,
   "metadata": {},
   "outputs": [],
   "source": [
    "batch_size = 32\n",
    "\n",
    "train_dataset_loader = torch.utils.data.DataLoader(train_dataset,\n",
    "                                                  batch_size=batch_size,\n",
    "                                                  shuffle=True,\n",
    "                                                  num_workers=4)\n",
    "\n",
    "dev_dataset_loader = torch.utils.data.DataLoader(dev_dataset,\n",
    "                                                  batch_size=batch_size,\n",
    "                                                  shuffle=True,\n",
    "                                                  num_workers=4)\n",
    "\n",
    "test_dataset_loader = torch.utils.data.DataLoader(test_dataset,\n",
    "                                                  batch_size=batch_size,\n",
    "                                                  shuffle=True,\n",
    "                                                  num_workers=4)"
   ]
  },
  {
   "cell_type": "code",
   "execution_count": 40,
   "metadata": {},
   "outputs": [
    {
     "name": "stderr",
     "output_type": "stream",
     "text": [
      "100%|██████████| 70/70 [00:08<00:00,  8.27it/s]\n"
     ]
    }
   ],
   "source": [
    "# Test set\n",
    "\n",
    "test_probs = []\n",
    "test_probs_tids = []\n",
    "\n",
    "for inputs, labels, tids in tqdm(test_dataset_loader):\n",
    "    inputs = inputs.to(device)\n",
    "    labels = labels.to(device)\n",
    "\n",
    "    outputs = model(inputs)\n",
    "    softmax_outputs = nn.functional.softmax(outputs, dim=1).detach().cpu().numpy()\n",
    "    test_probs.append(softmax_outputs)\n",
    "    \n",
    "    test_probs_tids.extend(tids.detach().cpu().numpy().tolist())\n",
    "\n",
    "test_probs = np.vstack(test_probs)"
   ]
  },
  {
   "cell_type": "code",
   "execution_count": 44,
   "metadata": {},
   "outputs": [],
   "source": [
    "np.savez_compressed('./data/image_predict_probs_test.npz',\n",
    "                    predict_probs=test_probs,\n",
    "                    image_tweetID=test_probs_tids)"
   ]
  },
  {
   "cell_type": "code",
   "execution_count": 49,
   "metadata": {},
   "outputs": [
    {
     "name": "stderr",
     "output_type": "stream",
     "text": [
      " 83%|████████▎ | 354/426 [00:42<00:09,  7.31it/s]/nethome/zwang3049/jay/miniconda3/envs/nlp/lib/python3.7/site-packages/PIL/Image.py:961: UserWarning: Palette images with Transparency expressed in bytes should be converted to RGBA images\n",
      "  \"Palette images with Transparency expressed in bytes should be \"\n",
      "100%|██████████| 426/426 [00:51<00:00,  8.33it/s]\n"
     ]
    }
   ],
   "source": [
    "# Training set\n",
    "\n",
    "test_probs = []\n",
    "test_probs_tids = []\n",
    "\n",
    "for inputs, labels, tids in tqdm(train_dataset_loader):\n",
    "    inputs = inputs.to(device)\n",
    "    labels = labels.to(device)\n",
    "\n",
    "    outputs = model(inputs)\n",
    "    softmax_outputs = nn.functional.softmax(outputs, dim=1).detach().cpu().numpy()\n",
    "    test_probs.append(softmax_outputs)\n",
    "    \n",
    "    test_probs_tids.extend(tids.detach().cpu().numpy().tolist())\n",
    "\n",
    "test_probs = np.vstack(test_probs)\n",
    "\n",
    "np.savez_compressed('./data/image_predict_probs_train.npz',\n",
    "                    predict_probs=test_probs,\n",
    "                    image_tweetID=test_probs_tids)"
   ]
  },
  {
   "cell_type": "code",
   "execution_count": 50,
   "metadata": {},
   "outputs": [
    {
     "name": "stderr",
     "output_type": "stream",
     "text": [
      " 13%|█▎        | 9/70 [00:01<00:16,  3.63it/s]/nethome/zwang3049/jay/miniconda3/envs/nlp/lib/python3.7/site-packages/PIL/Image.py:961: UserWarning: Palette images with Transparency expressed in bytes should be converted to RGBA images\n",
      "  \"Palette images with Transparency expressed in bytes should be \"\n",
      "100%|██████████| 70/70 [00:08<00:00,  8.37it/s]\n"
     ]
    }
   ],
   "source": [
    "# Developing set\n",
    "\n",
    "test_probs = []\n",
    "test_probs_tids = []\n",
    "\n",
    "for inputs, labels, tids in tqdm(dev_dataset_loader):\n",
    "    inputs = inputs.to(device)\n",
    "    labels = labels.to(device)\n",
    "\n",
    "    outputs = model(inputs)\n",
    "    softmax_outputs = nn.functional.softmax(outputs, dim=1).detach().cpu().numpy()\n",
    "    test_probs.append(softmax_outputs)\n",
    "    \n",
    "    test_probs_tids.extend(tids.detach().cpu().numpy().tolist())\n",
    "\n",
    "test_probs = np.vstack(test_probs)\n",
    "\n",
    "np.savez_compressed('./data/image_predict_probs_dev.npz',\n",
    "                    predict_probs=test_probs,\n",
    "                    image_tweetID=test_probs_tids)"
   ]
  },
  {
   "cell_type": "code",
   "execution_count": 47,
   "metadata": {},
   "outputs": [
    {
     "data": {
      "text/plain": [
       "13608"
      ]
     },
     "execution_count": 47,
     "metadata": {},
     "output_type": "execute_result"
    }
   ],
   "source": [
    "len(test_probs_tids)"
   ]
  },
  {
   "cell_type": "code",
   "execution_count": 54,
   "metadata": {},
   "outputs": [
    {
     "name": "stdout",
     "output_type": "stream",
     "text": [
      "(2237, 5)\n",
      "(2237,)\n"
     ]
    }
   ],
   "source": [
    "data = np.load('./data/image_predict_probs_test.npz')\n",
    "print(data['predict_probs'].shape)\n",
    "print(data['image_tweetID'].shape)"
   ]
  },
  {
   "cell_type": "markdown",
   "metadata": {},
   "source": [
    "## MMHS150K Dataset"
   ]
  },
  {
   "cell_type": "markdown",
   "metadata": {},
   "source": [
    "### 1. Train the Model"
   ]
  },
  {
   "cell_type": "code",
   "execution_count": 62,
   "metadata": {},
   "outputs": [],
   "source": [
    "from json import load, dump"
   ]
  },
  {
   "cell_type": "code",
   "execution_count": 63,
   "metadata": {},
   "outputs": [],
   "source": [
    "labels = load(open('./MMHS150K_GT.json', 'r'))"
   ]
  },
  {
   "cell_type": "code",
   "execution_count": 64,
   "metadata": {},
   "outputs": [],
   "source": [
    "binary_labels = {}\n",
    "\n",
    "for k in labels:\n",
    "    binary_labels[k] = int(labels[k]['labels'].count(0) <= 1)"
   ]
  },
  {
   "cell_type": "code",
   "execution_count": 65,
   "metadata": {},
   "outputs": [],
   "source": [
    "splits = {}\n",
    "\n",
    "for name in ['train', 'val', 'test']:\n",
    "    with open('./splits/{}_ids.txt'.format(name)) as fp:\n",
    "        lines = [l.replace('\\n', '') for l in fp.readlines()]\n",
    "        splits[name] = lines"
   ]
  },
  {
   "cell_type": "code",
   "execution_count": 69,
   "metadata": {},
   "outputs": [
    {
     "data": {
      "text/plain": [
       "Counter({1: 36978, 0: 112845})"
      ]
     },
     "execution_count": 69,
     "metadata": {},
     "output_type": "execute_result"
    }
   ],
   "source": [
    "Counter([binary_labels[k] for k in binary_labels])"
   ]
  },
  {
   "cell_type": "code",
   "execution_count": 70,
   "metadata": {},
   "outputs": [],
   "source": [
    "sub_labels = {'train': [], 'val': [], 'test': []}\n",
    "\n",
    "for n in ['train', 'val', 'test']:\n",
    "    for l in splits[n]:\n",
    "        sub_labels[n].append(binary_labels[l])"
   ]
  },
  {
   "cell_type": "code",
   "execution_count": 79,
   "metadata": {},
   "outputs": [
    {
     "data": {
      "text/plain": [
       "(array([105346.,      0.,      0.,      0.,      0.,      0.,      0.,\n",
       "             0.,      0.,  29477.]),\n",
       " array([0. , 0.1, 0.2, 0.3, 0.4, 0.5, 0.6, 0.7, 0.8, 0.9, 1. ]),\n",
       " <BarContainer object of 10 artists>)"
      ]
     },
     "execution_count": 79,
     "metadata": {},
     "output_type": "execute_result"
    },
    {
     "data": {
      "image/png": "[encoded data removed]",
      "text/plain": [
       "<Figure size 432x288 with 1 Axes>"
      ]
     },
     "metadata": {
      "needs_background": "light"
     },
     "output_type": "display_data"
    }
   ],
   "source": [
    "plt.hist(sub_labels['train'])"
   ]
  },
  {
   "cell_type": "code",
   "execution_count": 13,
   "metadata": {},
   "outputs": [],
   "source": [
    "def image_transform(image):\n",
    "\n",
    "    h, w, _ = image.shape\n",
    "    target_len = 299\n",
    "    padded_image = np.zeros((target_len, target_len, 3)).astype(int)\n",
    "\n",
    "\n",
    "    if w > h:\n",
    "        # Resize to [] x 299\n",
    "        image = cv2.resize(image, (target_len, math.floor(h / (w / target_len))))\n",
    "        short_len = image.shape[0]\n",
    "\n",
    "        # Pad to 299 x 299\n",
    "        padded_image[math.floor((target_len - short_len) / 2):\n",
    "                     math.floor((target_len - short_len) / 2) + short_len,\n",
    "                     :, :] = image\n",
    "    else:\n",
    "        # Resize to 299 x []\n",
    "        image = cv2.resize(image, (math.floor(w / (h / target_len)), target_len))\n",
    "        short_len = image.shape[1]\n",
    "\n",
    "        # Pad to 299 x 299\n",
    "        padded_image[:, math.floor((target_len - short_len) / 2):\n",
    "                     math.floor((target_len - short_len) / 2) + short_len,\n",
    "                     :] = image\n",
    "    \n",
    "    return padded_image\n",
    "\n",
    "image = cv2.imread('./mmhs150k-img/{}.jpg'.format('1114679353714016256'))\n",
    "image = cv2.cvtColor(image, cv2.COLOR_BGR2RGB)"
   ]
  },
  {
   "cell_type": "code",
   "execution_count": 14,
   "metadata": {},
   "outputs": [
    {
     "data": {
      "image/png": "[encoded data removed]",
      "text/plain": [
       "<Figure size 432x288 with 1 Axes>"
      ]
     },
     "metadata": {
      "needs_background": "light"
     },
     "output_type": "display_data"
    }
   ],
   "source": [
    "plt.imshow(image)\n",
    "plt.show()"
   ]
  },
  {
   "cell_type": "code",
   "execution_count": 15,
   "metadata": {},
   "outputs": [
    {
     "data": {
      "image/png": "[encoded data removed]",
      "text/plain": [
       "<Figure size 432x288 with 1 Axes>"
      ]
     },
     "metadata": {
      "needs_background": "light"
     },
     "output_type": "display_data"
    }
   ],
   "source": [
    "plt.imshow(image_transform(image))\n",
    "plt.show()"
   ]
  },
  {
   "cell_type": "code",
   "execution_count": 16,
   "metadata": {},
   "outputs": [],
   "source": [
    "class ImageDataset(Dataset):\n",
    "\n",
    "    def __init__(self, ids, root_dir):\n",
    "        \"\"\"\n",
    "        Args:\n",
    "            tsv_file (string): Path to the train/test/dev split tsv file\n",
    "            root_dir (string): Directory with all the images.\n",
    "        \"\"\"\n",
    "        self.ids = ids\n",
    "        self.root_dir = root_dir\n",
    "        self.normalize = transforms.Normalize(mean=[0.485, 0.456, 0.406], std=[0.229, 0.224, 0.225])\n",
    "        self.resize = transforms.Resize(256)\n",
    "        self.center = transforms.CenterCrop(224)\n",
    "        self.to_tensor = transforms.ToTensor()\n",
    "\n",
    "    def __len__(self):\n",
    "        return len(self.ids)\n",
    "\n",
    "    def __getitem__(self, idx):\n",
    "        if torch.is_tensor(idx):\n",
    "            idx = idx.tolist()\n",
    "\n",
    "        img_name = os.path.join(self.root_dir, '{}.jpg'.format(self.ids[idx]))\n",
    "        image = Image.open(img_name).convert('RGB')\n",
    "        \n",
    "        image = self.resize(image)\n",
    "        image = self.center(image)\n",
    "        \n",
    "        image = self.to_tensor(image)\n",
    "        image = self.normalize(image)\n",
    "        \n",
    "        # Get the label\n",
    "        label = binary_labels[self.ids[idx]]\n",
    "        \n",
    "        return image, label"
   ]
  },
  {
   "cell_type": "code",
   "execution_count": 17,
   "metadata": {},
   "outputs": [],
   "source": [
    "train_dataset = ImageDataset(splits['train'], './mmhs150k-img')"
   ]
  },
  {
   "cell_type": "code",
   "execution_count": 18,
   "metadata": {},
   "outputs": [
    {
     "name": "stdout",
     "output_type": "stream",
     "text": [
      "torch.Size([3, 224, 224]) 1\n"
     ]
    }
   ],
   "source": [
    "for i in train_dataset:\n",
    "    print(i[0].shape, i[1])\n",
    "    break"
   ]
  },
  {
   "cell_type": "code",
   "execution_count": 19,
   "metadata": {},
   "outputs": [],
   "source": [
    "num_classes = 2\n",
    "device = torch.device(\"cuda:0\" if torch.cuda.is_available() else \"cpu\")\n",
    "\n",
    "train_dataset = ImageDataset(splits['train'], './mmhs150k-img')\n",
    "dev_dataset = ImageDataset(splits['val'], './mmhs150k-img')\n",
    "test_dataset = ImageDataset(splits['test'], './mmhs150k-img')"
   ]
  },
  {
   "cell_type": "code",
   "execution_count": 20,
   "metadata": {},
   "outputs": [],
   "source": [
    "batch_size = 32\n",
    "\n",
    "train_dataset_loader = torch.utils.data.DataLoader(train_dataset,\n",
    "                                                   batch_size=batch_size,\n",
    "                                                   shuffle=True,\n",
    "                                                   num_workers=4)\n",
    "dev_dataset_loader = torch.utils.data.DataLoader(dev_dataset,\n",
    "                                                 batch_size=batch_size,\n",
    "                                                 shuffle=True,\n",
    "                                                 num_workers=4)\n",
    "test_dataset_loader = torch.utils.data.DataLoader(test_dataset,\n",
    "                                                  batch_size=batch_size,\n",
    "                                                  shuffle=True,\n",
    "                                                  num_workers=4)"
   ]
  },
  {
   "cell_type": "code",
   "execution_count": 21,
   "metadata": {},
   "outputs": [
    {
     "name": "stdout",
     "output_type": "stream",
     "text": [
      "torch.Size([32, 3, 224, 224]) tensor(2.6400) tensor([0, 0, 1, 1, 1, 0, 0, 0, 1, 1, 0, 0, 0, 0, 0, 1, 1, 0, 0, 0, 0, 0, 0, 0,\n",
      "        1, 0, 1, 0, 0, 1, 0, 0])\n"
     ]
    }
   ],
   "source": [
    "for inputs, labels in train_dataset_loader:\n",
    "    print(inputs.shape, torch.max(inputs), labels)\n",
    "    break"
   ]
  },
  {
   "cell_type": "code",
   "execution_count": 23,
   "metadata": {},
   "outputs": [
    {
     "data": {
      "text/plain": [
       "tensor([1., 2.])"
      ]
     },
     "execution_count": 23,
     "metadata": {},
     "output_type": "execute_result"
    }
   ],
   "source": [
    "torch.Tensor([1,2])"
   ]
  },
  {
   "cell_type": "code",
   "execution_count": 39,
   "metadata": {},
   "outputs": [],
   "source": [
    "def train_model(model, dataloaders, criterion, optimizer, num_epochs=25, patience=20):\n",
    "    val_acc_history = []\n",
    "\n",
    "    best_model_wts = copy.deepcopy(model.state_dict())\n",
    "    best_acc = 0.0\n",
    "    best_f1 = 0\n",
    "    \n",
    "    # Early stopping\n",
    "    es_counter = 0\n",
    "    es = False\n",
    "\n",
    "    for epoch in range(num_epochs):\n",
    "        if es:\n",
    "            break\n",
    "\n",
    "        print('Epoch {}/{}'.format(epoch, num_epochs - 1))\n",
    "        print('-' * 10)\n",
    "\n",
    "        # Each epoch has a training and validation phase\n",
    "        for phase in ['train', 'val']:\n",
    "            if phase == 'train':\n",
    "                model.train()  # Set model to training mode\n",
    "            else:\n",
    "                model.eval()   # Set model to evaluate mode\n",
    "\n",
    "            running_loss = 0.0\n",
    "            running_corrects = 0\n",
    "            \n",
    "            running_predicts = []\n",
    "            running_labels = []\n",
    "\n",
    "            # Iterate over data.\n",
    "            for inputs, labels in tqdm(dataloaders[phase], desc=phase):\n",
    "                inputs = inputs.to(device)\n",
    "                labels = labels.to(device)\n",
    "\n",
    "                # zero the parameter gradients\n",
    "                optimizer.zero_grad()\n",
    "\n",
    "                # forward\n",
    "                # track history if only in train\n",
    "                with torch.set_grad_enabled(phase == 'train'):\n",
    "                    # Get model outputs and calculate loss\n",
    "                    # Special case for inception because in training it has an auxiliary output. In train\n",
    "                    #   mode we calculate the loss by summing the final output and the auxiliary output\n",
    "                    #   but in testing we only consider the final output.\n",
    "\n",
    "                    outputs = model(inputs)\n",
    "                    loss = criterion(outputs, labels)\n",
    "\n",
    "                    _, preds = torch.max(outputs, 1)\n",
    "\n",
    "                    # backward + optimize only if in training phase\n",
    "                    if phase == 'train':\n",
    "                        loss.backward()\n",
    "                        optimizer.step()\n",
    "\n",
    "                # statistics\n",
    "                running_loss += loss.item() * inputs.size(0)\n",
    "                running_corrects += torch.sum(preds == labels.data)\n",
    "                \n",
    "                running_predicts.extend(preds.tolist())\n",
    "                running_labels.extend(labels.data.tolist())\n",
    "\n",
    "            epoch_loss = running_loss / len(dataloaders[phase].dataset)\n",
    "            epoch_acc = running_corrects.double() / len(dataloaders[phase].dataset)\n",
    "\n",
    "            print('{} Loss: {:.4f} Acc: {:.4f}'.format(phase, epoch_loss, epoch_acc))\n",
    "\n",
    "            # deep copy the model\n",
    "            if phase == 'val':\n",
    "                # Compute F1 score\n",
    "                y_true = torch.Tensor(running_labels)\n",
    "                y_pred = torch.Tensor(running_predicts)\n",
    "                tp = (y_true * y_pred).sum().to(torch.float32)\n",
    "                tn = ((1 - y_true) * (1 - y_pred)).sum().to(torch.float32)\n",
    "                fp = ((1 - y_true) * y_pred).sum().to(torch.float32)\n",
    "                fn = (y_true * (1 - y_pred)).sum().to(torch.float32)\n",
    "\n",
    "                epsilon = 1e-7\n",
    "\n",
    "                precision = tp / (tp + fp + epsilon)\n",
    "                recall = tp / (tp + fn + epsilon)\n",
    "\n",
    "                f1 = 2 * (precision*recall) / (precision + recall + epsilon)\n",
    "                \n",
    "                print(f1)\n",
    "    \n",
    "                if f1 > best_f1:\n",
    "                    best_f1 = f1\n",
    "                    best_model_wts = copy.deepcopy(model.state_dict())\n",
    "                    es_counter = 0\n",
    "                else:\n",
    "                    es_counter += 1\n",
    "                    if es_counter > patience:\n",
    "                        es = True\n",
    "\n",
    "                val_acc_history.append(epoch_acc)\n",
    "\n",
    "        print()\n",
    "\n",
    "    print('Best val Acc: {:4f}'.format(best_acc))\n",
    "\n",
    "    # load best model weights\n",
    "    model.load_state_dict(best_model_wts)\n",
    "    return model, val_acc_history"
   ]
  },
  {
   "cell_type": "code",
   "execution_count": 40,
   "metadata": {},
   "outputs": [],
   "source": [
    "model = models.vgg16(pretrained=True)\n",
    "\n",
    "# Freeze model weights\n",
    "for param in model.parameters():\n",
    "    param.requires_grad = False\n",
    "    \n",
    "# Add on classifier\n",
    "model.classifier[6] = nn.Sequential(\n",
    "                      nn.Linear(4096, 256), \n",
    "                      nn.ReLU(), \n",
    "                      nn.Dropout(0.4),\n",
    "                      nn.Linear(256, num_classes))\n",
    "\n",
    "model = model.to(device)\n",
    "\n",
    "params_to_update = [p for p in model.parameters() if p.requires_grad]\n",
    "\n",
    "# Observe that all parameters are being optimized\n",
    "optimizer_ft = optim.Adam(params_to_update, lr=1e-4)\n",
    "criterion = nn.CrossEntropyLoss()"
   ]
  },
  {
   "cell_type": "code",
   "execution_count": 43,
   "metadata": {},
   "outputs": [],
   "source": [
    "# dataloaders = {'train': train_dataset_loader,\n",
    "#                'val': dev_dataset_loader}\n",
    "\n",
    "# model, val_acc_history = train_model(model, dataloaders, criterion,\n",
    "#                                      optimizer_ft, num_epochs=200,\n",
    "#                                      patience=30)\n",
    "\n",
    "# #torch.save(model.state_dict(), './output/best_weights_mmhs150k.pk')\n",
    "# # dump(val_acc_history, open('./output/val_acc_history.json', 'w'))"
   ]
  },
  {
   "cell_type": "markdown",
   "metadata": {},
   "source": [
    "## 3. Analysis"
   ]
  },
  {
   "cell_type": "code",
   "execution_count": 44,
   "metadata": {},
   "outputs": [],
   "source": [
    "num_classes = 2\n",
    "model = models.vgg16(pretrained=True)\n",
    "\n",
    "# Freeze model weights\n",
    "for param in model.parameters():\n",
    "    param.requires_grad = False\n",
    "    \n",
    "# Add on classifier\n",
    "model.classifier[6] = nn.Sequential(\n",
    "                      nn.Linear(4096, 256), \n",
    "                      nn.ReLU(), \n",
    "                      nn.Dropout(0.4),\n",
    "                      nn.Linear(256, num_classes))\n",
    "\n",
    "model.load_state_dict(torch.load('./output/best_weights_mmhs150k.pk'))\n",
    "model = model.to(device)"
   ]
  },
  {
   "cell_type": "code",
   "execution_count": 54,
   "metadata": {},
   "outputs": [],
   "source": [
    "batch_size = 32\n",
    "\n",
    "test_dataset_loader = torch.utils.data.DataLoader(test_dataset,\n",
    "                                                  batch_size=batch_size,\n",
    "                                                  shuffle=True,\n",
    "                                                  num_workers=4)"
   ]
  },
  {
   "cell_type": "code",
   "execution_count": 55,
   "metadata": {},
   "outputs": [
    {
     "name": "stderr",
     "output_type": "stream",
     "text": [
      "100%|██████████| 313/313 [00:23<00:00, 13.16it/s]\n"
     ]
    }
   ],
   "source": [
    "predictions = []\n",
    "true_labels = []\n",
    "criterion = nn.CrossEntropyLoss()\n",
    "\n",
    "for inputs, labels in tqdm(test_dataset_loader):\n",
    "    inputs = inputs.to(device)\n",
    "    labels = labels.to(device)\n",
    "\n",
    "\n",
    "    outputs = model(inputs)\n",
    "\n",
    "    _, preds = torch.max(outputs, 1)\n",
    "    \n",
    "    predictions.extend(preds.cpu().numpy().tolist())\n",
    "    true_labels.extend(labels.cpu().numpy().tolist())\n"
   ]
  },
  {
   "cell_type": "code",
   "execution_count": 47,
   "metadata": {},
   "outputs": [],
   "source": [
    "confusion = metrics.confusion_matrix(true_labels, predictions)"
   ]
  },
  {
   "cell_type": "code",
   "execution_count": 48,
   "metadata": {},
   "outputs": [
    {
     "data": {
      "image/png": "[encoded data removed]",
      "text/plain": [
       "<Figure size 432x288 with 2 Axes>"
      ]
     },
     "metadata": {
      "needs_background": "light"
     },
     "output_type": "display_data"
    }
   ],
   "source": [
    "import seaborn as sns;\n",
    "\n",
    "ticks = ['non-hate', 'hate']\n",
    "\n",
    "plt.title('Confusion Matrix')\n",
    "ax = sns.heatmap(confusion, annot=True, fmt=\"d\", cmap=\"YlGnBu\", square=True,\n",
    "                 xticklabels=ticks, yticklabels=ticks)"
   ]
  },
  {
   "cell_type": "code",
   "execution_count": 56,
   "metadata": {},
   "outputs": [
    {
     "data": {
      "text/plain": [
       "Counter({1: 9907, 0: 93})"
      ]
     },
     "execution_count": 56,
     "metadata": {},
     "output_type": "execute_result"
    }
   ],
   "source": [
    "Counter(predictions)"
   ]
  },
  {
   "cell_type": "code",
   "execution_count": 57,
   "metadata": {},
   "outputs": [
    {
     "name": "stdout",
     "output_type": "stream",
     "text": [
      "134823 5000 10000\n"
     ]
    }
   ],
   "source": [
    "print(len(train_dataset), len(dev_dataset), len(test_dataset))"
   ]
  },
  {
   "cell_type": "code",
   "execution_count": 58,
   "metadata": {},
   "outputs": [
    {
     "data": {
      "text/plain": [
       "0.5008"
      ]
     },
     "execution_count": 58,
     "metadata": {},
     "output_type": "execute_result"
    }
   ],
   "source": [
    "metrics.accuracy_score(true_labels, predictions)"
   ]
  },
  {
   "cell_type": "code",
   "execution_count": 59,
   "metadata": {},
   "outputs": [
    {
     "data": {
      "text/plain": [
       "0.6651462302119667"
      ]
     },
     "execution_count": 59,
     "metadata": {},
     "output_type": "execute_result"
    }
   ],
   "source": [
    "metrics.f1_score(true_labels, predictions)"
   ]
  },
  {
   "cell_type": "code",
   "execution_count": 60,
   "metadata": {},
   "outputs": [
    {
     "data": {
      "text/plain": [
       "0.5004542242858585"
      ]
     },
     "execution_count": 60,
     "metadata": {},
     "output_type": "execute_result"
    }
   ],
   "source": [
    "metrics.precision_score(true_labels, predictions)"
   ]
  },
  {
   "cell_type": "code",
   "execution_count": 61,
   "metadata": {},
   "outputs": [
    {
     "data": {
      "text/plain": [
       "0.9914017196560688"
      ]
     },
     "execution_count": 61,
     "metadata": {},
     "output_type": "execute_result"
    }
   ],
   "source": [
    "metrics.recall_score(true_labels, predictions)"
   ]
  },
  {
   "cell_type": "markdown",
   "metadata": {},
   "source": [
    "## Extract Last Layer Feature"
   ]
  },
  {
   "cell_type": "code",
   "execution_count": 35,
   "metadata": {},
   "outputs": [
    {
     "data": {
      "text/plain": [
       "Linear(in_features=4096, out_features=4096, bias=True)"
      ]
     },
     "execution_count": 35,
     "metadata": {},
     "output_type": "execute_result"
    }
   ],
   "source": [
    "model.classifier._modules['6'][0]\n",
    "model.classifier._modules['3']"
   ]
  },
  {
   "cell_type": "code",
   "execution_count": 52,
   "metadata": {},
   "outputs": [],
   "source": [
    "class ImageDatasetExtract(Dataset):\n",
    "\n",
    "    def __init__(self, ids, root_dir):\n",
    "        \"\"\"\n",
    "        Args:\n",
    "            tsv_file (string): Path to the train/test/dev split tsv file\n",
    "            root_dir (string): Directory with all the images.\n",
    "        \"\"\"\n",
    "        self.ids = ids\n",
    "        self.root_dir = root_dir\n",
    "        self.normalize = transforms.Normalize(mean=[0.485, 0.456, 0.406], std=[0.229, 0.224, 0.225])\n",
    "        self.resize = transforms.Resize(256)\n",
    "        self.center = transforms.CenterCrop(224)\n",
    "        self.to_tensor = transforms.ToTensor()\n",
    "\n",
    "    def __len__(self):\n",
    "        return len(self.ids)\n",
    "\n",
    "    def __getitem__(self, idx):\n",
    "        if torch.is_tensor(idx):\n",
    "            idx = idx.tolist()\n",
    "\n",
    "        img_name = img_name = os.path.join(self.root_dir, '{}.jpg'.format(self.ids[idx]))\n",
    "        image = Image.open(img_name).convert('RGB')\n",
    "        \n",
    "        image = self.resize(image)\n",
    "        image = self.center(image)\n",
    "        \n",
    "        image = self.to_tensor(image)\n",
    "        image = self.normalize(image)\n",
    "        \n",
    "        # Get the label\n",
    "        label = binary_labels[self.ids[idx]]\n",
    "        \n",
    "        tid = self.ids[idx]\n",
    "        \n",
    "        return image, label, tid"
   ]
  },
  {
   "cell_type": "code",
   "execution_count": 53,
   "metadata": {},
   "outputs": [],
   "source": [
    "num_classes = 2\n",
    "device = torch.device(\"cuda:0\" if torch.cuda.is_available() else \"cpu\")\n",
    "\n",
    "train_dataset = ImageDatasetExtract(splits['train'], 'mmhs150k-img')\n",
    "dev_dataset = ImageDatasetExtract(splits['val'], 'mmhs150k-img')\n",
    "test_dataset = ImageDatasetExtract(splits['test'], 'mmhs150k-img')"
   ]
  },
  {
   "cell_type": "code",
   "execution_count": 54,
   "metadata": {},
   "outputs": [],
   "source": [
    "batch_size = 32\n",
    "\n",
    "train_dataset_loader = torch.utils.data.DataLoader(train_dataset,\n",
    "                                                  batch_size=batch_size,\n",
    "                                                  shuffle=True,\n",
    "                                                  num_workers=4)\n",
    "\n",
    "dev_dataset_loader = torch.utils.data.DataLoader(dev_dataset,\n",
    "                                                  batch_size=batch_size,\n",
    "                                                  shuffle=True,\n",
    "                                                  num_workers=4)\n",
    "\n",
    "test_dataset_loader = torch.utils.data.DataLoader(test_dataset,\n",
    "                                                  batch_size=batch_size,\n",
    "                                                  shuffle=True,\n",
    "                                                  num_workers=4)"
   ]
  },
  {
   "cell_type": "code",
   "execution_count": 49,
   "metadata": {},
   "outputs": [],
   "source": [
    "model = models.vgg16(pretrained=True)\n",
    "\n",
    "# Freeze model weights\n",
    "for param in model.parameters():\n",
    "    param.requires_grad = False\n",
    "    \n",
    "# Add on classifier\n",
    "model.classifier[6] = nn.Sequential(\n",
    "                      nn.Linear(4096, 256), \n",
    "                      nn.ReLU(), \n",
    "                      nn.Dropout(0.4),\n",
    "                      nn.Linear(256, num_classes))\n",
    "\n",
    "model.load_state_dict(torch.load('./output/best_weights_mmhs150k.pk'))\n",
    "model = model.to(device)"
   ]
  },
  {
   "cell_type": "code",
   "execution_count": 50,
   "metadata": {},
   "outputs": [
    {
     "data": {
      "text/plain": [
       "<torch.utils.hooks.RemovableHandle at 0x7efe7bd86e50>"
      ]
     },
     "execution_count": 50,
     "metadata": {},
     "output_type": "execute_result"
    }
   ],
   "source": [
    "output_256 = []\n",
    "output_256_tid = []\n",
    "\n",
    "def get_output(self, input, output):\n",
    "    cur_output = output.data.detach().cpu().numpy()\n",
    "    for i in range(cur_output.shape[0]):\n",
    "        output_256.append(cur_output[i, :])\n",
    "\n",
    "model.classifier._modules['6'][0].register_forward_hook(get_output)"
   ]
  },
  {
   "cell_type": "code",
   "execution_count": 60,
   "metadata": {},
   "outputs": [
    {
     "name": "stderr",
     "output_type": "stream",
     "text": [
      "100%|██████████| 313/313 [00:23<00:00, 13.37it/s]\n"
     ]
    }
   ],
   "source": [
    "for inputs, labels, tids in tqdm(test_dataset_loader):\n",
    "    inputs = inputs.to(device)\n",
    "    labels = labels.to(device)\n",
    "    output_256_tid.extend(list(tids))\n",
    "\n",
    "    outputs = model(inputs)"
   ]
  },
  {
   "cell_type": "code",
   "execution_count": 67,
   "metadata": {},
   "outputs": [],
   "source": [
    "np.savez_compressed('./data/mmhs150k_image_embedding_256_test.npz',\n",
    "                    image_embedding=output_256,\n",
    "                    image_tweetID=output_256_tid)"
   ]
  },
  {
   "cell_type": "code",
   "execution_count": 68,
   "metadata": {},
   "outputs": [
    {
     "name": "stderr",
     "output_type": "stream",
     "text": [
      "100%|██████████| 157/157 [00:11<00:00, 13.16it/s]\n"
     ]
    }
   ],
   "source": [
    "model = models.vgg16(pretrained=True)\n",
    "\n",
    "# Freeze model weights\n",
    "for param in model.parameters():\n",
    "    param.requires_grad = False\n",
    "    \n",
    "# Add on classifier\n",
    "model.classifier[6] = nn.Sequential(\n",
    "                      nn.Linear(4096, 256), \n",
    "                      nn.ReLU(), \n",
    "                      nn.Dropout(0.4),\n",
    "                      nn.Linear(256, num_classes))\n",
    "\n",
    "model.load_state_dict(torch.load('./output/best_weights_mmhs150k.pk'))\n",
    "model = model.to(device)\n",
    "\n",
    "output_256 = []\n",
    "output_256_tid = []\n",
    "\n",
    "def get_output(self, input, output):\n",
    "    cur_output = output.data.detach().cpu().numpy()\n",
    "    for i in range(cur_output.shape[0]):\n",
    "        output_256.append(cur_output[i, :])\n",
    "\n",
    "model.classifier._modules['6'][0].register_forward_hook(get_output)\n",
    "\n",
    "for inputs, labels, tids in tqdm(dev_dataset_loader):\n",
    "    inputs = inputs.to(device)\n",
    "    labels = labels.to(device)\n",
    "    output_256_tid.extend(list(tids))\n",
    "\n",
    "    outputs = model(inputs)"
   ]
  },
  {
   "cell_type": "code",
   "execution_count": 69,
   "metadata": {},
   "outputs": [
    {
     "name": "stdout",
     "output_type": "stream",
     "text": [
      "5000 5000\n"
     ]
    }
   ],
   "source": [
    "print(len(output_256_tid), len(output_256))"
   ]
  },
  {
   "cell_type": "code",
   "execution_count": 70,
   "metadata": {},
   "outputs": [],
   "source": [
    "np.savez_compressed('./data/mmhs150k_image_embedding_256_dev.npz',\n",
    "                    image_embedding=output_256,\n",
    "                    image_tweetID=output_256_tid)"
   ]
  },
  {
   "cell_type": "code",
   "execution_count": 71,
   "metadata": {},
   "outputs": [
    {
     "name": "stderr",
     "output_type": "stream",
     "text": [
      " 22%|██▏       | 945/4214 [01:10<03:58, 13.71it/s]Traceback (most recent call last):\n",
      "  File \"/nethome/zwang3049/jay/miniconda3/envs/nlp/lib/python3.7/multiprocessing/queues.py\", line 232, in _feed\n",
      "    close()\n",
      "  File \"/nethome/zwang3049/jay/miniconda3/envs/nlp/lib/python3.7/multiprocessing/connection.py\", line 177, in close\n",
      "    self._close()\n",
      "  File \"/nethome/zwang3049/jay/miniconda3/envs/nlp/lib/python3.7/multiprocessing/connection.py\", line 361, in _close\n",
      "    _close(self._handle)\n",
      "OSError: [Errno 9] Bad file descriptor\n",
      "100%|██████████| 4214/4214 [05:11<00:00, 13.55it/s]\n"
     ]
    }
   ],
   "source": [
    "model = models.vgg16(pretrained=True)\n",
    "\n",
    "# Freeze model weights\n",
    "for param in model.parameters():\n",
    "    param.requires_grad = False\n",
    "    \n",
    "# Add on classifier\n",
    "model.classifier[6] = nn.Sequential(\n",
    "                      nn.Linear(4096, 256), \n",
    "                      nn.ReLU(), \n",
    "                      nn.Dropout(0.4),\n",
    "                      nn.Linear(256, num_classes))\n",
    "\n",
    "model.load_state_dict(torch.load('./output/best_weights_mmhs150k.pk'))\n",
    "model = model.to(device)\n",
    "\n",
    "output_256 = []\n",
    "output_256_tid = []\n",
    "\n",
    "def get_output(self, input, output):\n",
    "    cur_output = output.data.detach().cpu().numpy()\n",
    "    for i in range(cur_output.shape[0]):\n",
    "        output_256.append(cur_output[i, :])\n",
    "\n",
    "model.classifier._modules['6'][0].register_forward_hook(get_output)\n",
    "\n",
    "for inputs, labels, tids in tqdm(train_dataset_loader):\n",
    "    inputs = inputs.to(device)\n",
    "    labels = labels.to(device)\n",
    "    output_256_tid.extend(list(tids))\n",
    "\n",
    "    outputs = model(inputs)"
   ]
  },
  {
   "cell_type": "code",
   "execution_count": 72,
   "metadata": {},
   "outputs": [
    {
     "name": "stdout",
     "output_type": "stream",
     "text": [
      "134823 134823\n"
     ]
    }
   ],
   "source": [
    "print(len(output_256_tid), len(output_256))"
   ]
  },
  {
   "cell_type": "code",
   "execution_count": 73,
   "metadata": {},
   "outputs": [],
   "source": [
    "np.savez_compressed('./data/mmhs150k_image_embedding_256_train.npz',\n",
    "                    image_embedding=output_256,\n",
    "                    image_tweetID=output_256_tid)"
   ]
  },
  {
   "cell_type": "code",
   "execution_count": 85,
   "metadata": {},
   "outputs": [],
   "source": [
    "tt = np.load('./data/mmhs150k_image_embedding_256_test.npz')"
   ]
  },
  {
   "cell_type": "code",
   "execution_count": 86,
   "metadata": {},
   "outputs": [
    {
     "name": "stdout",
     "output_type": "stream",
     "text": [
      "(10000, 256)\n",
      "(10000,)\n"
     ]
    }
   ],
   "source": [
    "print(tt['image_embedding'].shape)\n",
    "print(tt['image_tweetID'].shape)"
   ]
  },
  {
   "cell_type": "markdown",
   "metadata": {},
   "source": [
    "## Extract Classification Probabilities"
   ]
  },
  {
   "cell_type": "code",
   "execution_count": 74,
   "metadata": {},
   "outputs": [],
   "source": [
    "model = models.vgg16(pretrained=True)\n",
    "\n",
    "# Freeze model weights\n",
    "for param in model.parameters():\n",
    "    param.requires_grad = False\n",
    "    \n",
    "# Add on classifier\n",
    "model.classifier[6] = nn.Sequential(\n",
    "                      nn.Linear(4096, 256), \n",
    "                      nn.ReLU(), \n",
    "                      nn.Dropout(0.4),\n",
    "                      nn.Linear(256, num_classes))\n",
    "\n",
    "model.load_state_dict(torch.load('./output/best_weights_mmhs150k.pk'))\n",
    "model = model.to(device)"
   ]
  },
  {
   "cell_type": "code",
   "execution_count": 35,
   "metadata": {},
   "outputs": [],
   "source": [
    "class ImageDatasetExtract(Dataset):\n",
    "\n",
    "    def __init__(self, ids, root_dir):\n",
    "        \"\"\"\n",
    "        Args:\n",
    "            tsv_file (string): Path to the train/test/dev split tsv file\n",
    "            root_dir (string): Directory with all the images.\n",
    "        \"\"\"\n",
    "        self.ids = ids\n",
    "        self.root_dir = root_dir\n",
    "        self.normalize = transforms.Normalize(mean=[0.485, 0.456, 0.406], std=[0.229, 0.224, 0.225])\n",
    "        self.resize = transforms.Resize(256)\n",
    "        self.center = transforms.CenterCrop(224)\n",
    "        self.to_tensor = transforms.ToTensor()\n",
    "\n",
    "    def __len__(self):\n",
    "        return len(self.ids)\n",
    "\n",
    "    def __getitem__(self, idx):\n",
    "        if torch.is_tensor(idx):\n",
    "            idx = idx.tolist()\n",
    "\n",
    "        img_name = img_name = os.path.join(self.root_dir, '{}.jpg'.format(self.ids[idx]))\n",
    "        image = Image.open(img_name).convert('RGB')\n",
    "        \n",
    "        image = self.resize(image)\n",
    "        image = self.center(image)\n",
    "        \n",
    "        image = self.to_tensor(image)\n",
    "        image = self.normalize(image)\n",
    "        \n",
    "        # Get the label\n",
    "        label = binary_labels[self.ids[idx]]\n",
    "        \n",
    "        tid = self.ids[idx]\n",
    "        \n",
    "        return image, label, tid"
   ]
  },
  {
   "cell_type": "code",
   "execution_count": 75,
   "metadata": {},
   "outputs": [],
   "source": [
    "num_classes = 2\n",
    "device = torch.device(\"cuda:0\" if torch.cuda.is_available() else \"cpu\")\n",
    "\n",
    "train_dataset = ImageDatasetExtract(splits['train'], 'mmhs150k-img')\n",
    "dev_dataset = ImageDatasetExtract(splits['val'], 'mmhs150k-img')\n",
    "test_dataset = ImageDatasetExtract(splits['test'], 'mmhs150k-img')"
   ]
  },
  {
   "cell_type": "code",
   "execution_count": 76,
   "metadata": {},
   "outputs": [],
   "source": [
    "batch_size = 32\n",
    "\n",
    "train_dataset_loader = torch.utils.data.DataLoader(train_dataset,\n",
    "                                                  batch_size=batch_size,\n",
    "                                                  shuffle=True,\n",
    "                                                  num_workers=4)\n",
    "\n",
    "dev_dataset_loader = torch.utils.data.DataLoader(dev_dataset,\n",
    "                                                  batch_size=batch_size,\n",
    "                                                  shuffle=True,\n",
    "                                                  num_workers=4)\n",
    "\n",
    "test_dataset_loader = torch.utils.data.DataLoader(test_dataset,\n",
    "                                                  batch_size=batch_size,\n",
    "                                                  shuffle=True,\n",
    "                                                  num_workers=4)"
   ]
  },
  {
   "cell_type": "code",
   "execution_count": 77,
   "metadata": {},
   "outputs": [
    {
     "name": "stderr",
     "output_type": "stream",
     "text": [
      "100%|██████████| 313/313 [00:23<00:00, 13.50it/s]\n"
     ]
    }
   ],
   "source": [
    "# Test set\n",
    "\n",
    "test_probs = []\n",
    "test_probs_tids = []\n",
    "\n",
    "for inputs, labels, tids in tqdm(test_dataset_loader):\n",
    "    inputs = inputs.to(device)\n",
    "    labels = labels.to(device)\n",
    "\n",
    "    outputs = model(inputs)\n",
    "    softmax_outputs = nn.functional.softmax(outputs, dim=1).detach().cpu().numpy()\n",
    "    test_probs.append(softmax_outputs)\n",
    "    \n",
    "    test_probs_tids.extend(list(tids))\n",
    "\n",
    "test_probs = np.vstack(test_probs)"
   ]
  },
  {
   "cell_type": "code",
   "execution_count": 80,
   "metadata": {},
   "outputs": [],
   "source": [
    "np.savez_compressed('./data/mmhs150k_image_predict_probs_test.npz',\n",
    "                    predict_probs=test_probs,\n",
    "                    image_tweetID=test_probs_tids)"
   ]
  },
  {
   "cell_type": "code",
   "execution_count": 81,
   "metadata": {},
   "outputs": [
    {
     "name": "stderr",
     "output_type": "stream",
     "text": [
      "100%|██████████| 4214/4214 [05:07<00:00, 13.69it/s]\n"
     ]
    }
   ],
   "source": [
    "# Training set\n",
    "\n",
    "test_probs = []\n",
    "test_probs_tids = []\n",
    "\n",
    "for inputs, labels, tids in tqdm(train_dataset_loader):\n",
    "    inputs = inputs.to(device)\n",
    "    labels = labels.to(device)\n",
    "\n",
    "    outputs = model(inputs)\n",
    "    softmax_outputs = nn.functional.softmax(outputs, dim=1).detach().cpu().numpy()\n",
    "    test_probs.append(softmax_outputs)\n",
    "    \n",
    "    test_probs_tids.extend(list(tids))\n",
    "\n",
    "test_probs = np.vstack(test_probs)\n",
    "\n",
    "np.savez_compressed('./data/mmhs150k_image_predict_probs_train.npz',\n",
    "                    predict_probs=test_probs,\n",
    "                    image_tweetID=test_probs_tids)"
   ]
  },
  {
   "cell_type": "code",
   "execution_count": 82,
   "metadata": {},
   "outputs": [
    {
     "name": "stderr",
     "output_type": "stream",
     "text": [
      "100%|██████████| 157/157 [00:11<00:00, 13.32it/s]\n"
     ]
    }
   ],
   "source": [
    "# Developing set\n",
    "\n",
    "test_probs = []\n",
    "test_probs_tids = []\n",
    "\n",
    "for inputs, labels, tids in tqdm(dev_dataset_loader):\n",
    "    inputs = inputs.to(device)\n",
    "    labels = labels.to(device)\n",
    "\n",
    "    outputs = model(inputs)\n",
    "    softmax_outputs = nn.functional.softmax(outputs, dim=1).detach().cpu().numpy()\n",
    "    test_probs.append(softmax_outputs)\n",
    "    \n",
    "    test_probs_tids.extend(list(tids))\n",
    "\n",
    "test_probs = np.vstack(test_probs)\n",
    "\n",
    "np.savez_compressed('./data/mmhs150k_image_predict_probs_dev.npz',\n",
    "                    predict_probs=test_probs,\n",
    "                    image_tweetID=test_probs_tids)"
   ]
  },
  {
   "cell_type": "code",
   "execution_count": 47,
   "metadata": {},
   "outputs": [
    {
     "data": {
      "text/plain": [
       "13608"
      ]
     },
     "execution_count": 47,
     "metadata": {},
     "output_type": "execute_result"
    }
   ],
   "source": [
    "len(test_probs_tids)"
   ]
  },
  {
   "cell_type": "code",
   "execution_count": 83,
   "metadata": {},
   "outputs": [
    {
     "name": "stdout",
     "output_type": "stream",
     "text": [
      "(10000, 2)\n",
      "(10000,)\n"
     ]
    }
   ],
   "source": [
    "data = np.load('./data/mmhs150k_image_predict_probs_test.npz')\n",
    "print(data['predict_probs'].shape)\n",
    "print(data['image_tweetID'].shape)"
   ]
  },
  {
   "cell_type": "markdown",
   "metadata": {},
   "source": [
    "## Fake Image Dataset"
   ]
  },
  {
   "cell_type": "code",
   "execution_count": 48,
   "metadata": {},
   "outputs": [],
   "source": [
    "import urllib.request\n",
    "\n",
    "# urllib.request.urlretrieve(\"http://www.digimouth.com/news/media/2011/09/google-logo.jpg\", \"local-filename.jpg\")"
   ]
  },
  {
   "cell_type": "code",
   "execution_count": 53,
   "metadata": {},
   "outputs": [],
   "source": [
    "img_df = pd.read_csv('./verification/set_images.txt', sep='\\t')"
   ]
  },
  {
   "cell_type": "code",
   "execution_count": 54,
   "metadata": {},
   "outputs": [
    {
     "data": {
      "text/html": [
       "<div>\n",
       "<style scoped>\n",
       "    .dataframe tbody tr th:only-of-type {\n",
       "        vertical-align: middle;\n",
       "    }\n",
       "\n",
       "    .dataframe tbody tr th {\n",
       "        vertical-align: top;\n",
       "    }\n",
       "\n",
       "    .dataframe thead th {\n",
       "        text-align: right;\n",
       "    }\n",
       "</style>\n",
       "<table border=\"1\" class=\"dataframe\">\n",
       "  <thead>\n",
       "    <tr style=\"text-align: right;\">\n",
       "      <th></th>\n",
       "      <th>image_id</th>\n",
       "      <th>image_url</th>\n",
       "      <th>annotation</th>\n",
       "      <th>event</th>\n",
       "    </tr>\n",
       "  </thead>\n",
       "  <tbody>\n",
       "    <tr>\n",
       "      <th>0</th>\n",
       "      <td>boston_fake_01</td>\n",
       "      <td>http://i.imgur.com/LvoCC5T.jpg</td>\n",
       "      <td>fake</td>\n",
       "      <td>boston</td>\n",
       "    </tr>\n",
       "    <tr>\n",
       "      <th>1</th>\n",
       "      <td>boston_fake_02</td>\n",
       "      <td>http://instagram.com/p/YN7_ThPXrU/</td>\n",
       "      <td>fake</td>\n",
       "      <td>boston</td>\n",
       "    </tr>\n",
       "    <tr>\n",
       "      <th>2</th>\n",
       "      <td>boston_fake_03</td>\n",
       "      <td>https://o.twimg.com/2/proxy.jpg?t=HBgeaHR0cDov...</td>\n",
       "      <td>fake</td>\n",
       "      <td>boston</td>\n",
       "    </tr>\n",
       "    <tr>\n",
       "      <th>3</th>\n",
       "      <td>boston_fake_04</td>\n",
       "      <td>http://media.tumblr.com/a813460e72a178d8127b50...</td>\n",
       "      <td>fake</td>\n",
       "      <td>boston</td>\n",
       "    </tr>\n",
       "    <tr>\n",
       "      <th>4</th>\n",
       "      <td>boston_fake_05</td>\n",
       "      <td>http://i.imgur.com/uxAh4wwh.jpg</td>\n",
       "      <td>fake</td>\n",
       "      <td>boston</td>\n",
       "    </tr>\n",
       "  </tbody>\n",
       "</table>\n",
       "</div>"
      ],
      "text/plain": [
       "         image_id                                          image_url  \\\n",
       "0  boston_fake_01                     http://i.imgur.com/LvoCC5T.jpg   \n",
       "1  boston_fake_02                 http://instagram.com/p/YN7_ThPXrU/   \n",
       "2  boston_fake_03  https://o.twimg.com/2/proxy.jpg?t=HBgeaHR0cDov...   \n",
       "3  boston_fake_04  http://media.tumblr.com/a813460e72a178d8127b50...   \n",
       "4  boston_fake_05                    http://i.imgur.com/uxAh4wwh.jpg   \n",
       "\n",
       "  annotation   event  \n",
       "0       fake  boston  \n",
       "1       fake  boston  \n",
       "2       fake  boston  \n",
       "3       fake  boston  \n",
       "4       fake  boston  "
      ]
     },
     "execution_count": 54,
     "metadata": {},
     "output_type": "execute_result"
    }
   ],
   "source": [
    "img_df.head()"
   ]
  },
  {
   "cell_type": "code",
   "execution_count": 55,
   "metadata": {},
   "outputs": [
    {
     "data": {
      "text/plain": [
       "0                         http://i.imgur.com/LvoCC5T.jpg\n",
       "1                     http://instagram.com/p/YN7_ThPXrU/\n",
       "2      https://o.twimg.com/2/proxy.jpg?t=HBgeaHR0cDov...\n",
       "3      http://media.tumblr.com/a813460e72a178d8127b50...\n",
       "4                        http://i.imgur.com/uxAh4wwh.jpg\n",
       "                             ...                        \n",
       "394      https://pbs.twimg.com/media/Bic4fA5CQAAT5KY.jpg\n",
       "395      https://pbs.twimg.com/media/BialJuECIAATXE2.jpg\n",
       "396      https://pbs.twimg.com/media/BiVisqpCIAAbgju.jpg\n",
       "397      https://pbs.twimg.com/media/Bo-CY5ACcAAiRAw.jpg\n",
       "398      https://pbs.twimg.com/media/BpJguJhIMAAQsZK.jpg\n",
       "Name: image_url, Length: 399, dtype: object"
      ]
     },
     "execution_count": 55,
     "metadata": {},
     "output_type": "execute_result"
    }
   ],
   "source": [
    "img_df['image_url']"
   ]
  },
  {
   "cell_type": "code",
   "execution_count": 56,
   "metadata": {},
   "outputs": [
    {
     "data": {
      "text/plain": [
       "(399, 4)"
      ]
     },
     "execution_count": 56,
     "metadata": {},
     "output_type": "execute_result"
    }
   ],
   "source": [
    "img_df.shape"
   ]
  },
  {
   "cell_type": "code",
   "execution_count": null,
   "metadata": {},
   "outputs": [],
   "source": [
    "for i, row in img_df.iterrows():\n",
    "    try:\n",
    "        urllib.request.urlretrieve(row['image_url'], './verification/imgs/{}.jpg'.format(row['image_id']))\n",
    "    except:\n",
    "        pass"
   ]
  },
  {
   "cell_type": "code",
   "execution_count": null,
   "metadata": {},
   "outputs": [],
   "source": []
  }
 ],
 "metadata": {
  "kernelspec": {
   "display_name": "nlp",
   "language": "python",
   "name": "nlp"
  },
  "language_info": {
   "codemirror_mode": {
    "name": "ipython",
    "version": 3
   },
   "file_extension": ".py",
   "mimetype": "text/x-python",
   "name": "python",
   "nbconvert_exporter": "python",
   "pygments_lexer": "ipython3",
   "version": "3.7.9"
  }
 },
 "nbformat": 4,
 "nbformat_minor": 4
}
