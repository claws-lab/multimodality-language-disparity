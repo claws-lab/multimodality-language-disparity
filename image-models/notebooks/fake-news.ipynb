{
 "cells": [
  {
   "cell_type": "markdown",
   "metadata": {},
   "source": [
    "```\n",
    "Multimodal sentiment detection dataset.\n",
    "\n",
    "the files are here: https://www.dropbox.com/s/hpkdyuui5adqsek/multimodal_sentiment_dataset.zip?dl=0\n",
    "the dataset comes from this paper: https://arxiv.org/abs/1708.02099\n",
    "There are four classes ['creepy', 'gore', 'happy', 'rage'} (it'd be good if you could maintain this order as well)\n",
    "The dropbox also contains the train, val, and test split. The images are in the subdirectory called images , and are indexed as per the id in the .pkl files. For instance if an example has id <n>, the corresponding image would be ./images/<n>.jpg/png/jpeg (the file format may vary for some of the images)\n",
    "We are reporting the macro F1, precision, recall (and accuracy) – just like we did for the crisis dataset\n",
    "\n",
    "Multimodal fakenews detection dataset.\n",
    " \n",
    "the files are here: https://www.dropbox.com/s/esnr2ltp0z2ibq8/multmodal_fakenews_dataset.zip?dl=0\n",
    "the dataset comes from this paper: https://ojs.aaai.org/index.php/AAAI/article/view/7230\n",
    "There are two classes: 0 (not fake) and 1 (fake). Since this is binary classification task, we don't need to report macro-averaged scores. We can report the F1, precision and recall for the target class (i.e., 1/fake). In sklearn it can be specified by specifying average = 'binary' .\n",
    "The dropbox contains the images as well as the .pkl files for train and test set. There's no validation set, but I used 10% randomly sampled examples from the train set as my validation set. Also, please use the image_filename str (5vthXfxXiBvcdhZRirjpnhDJJi14UqtR in the following example)  as the id for any given example.\n",
    "{'title': \"Teen Mom Star Jenelle Evans' Wedding Dress Is Available Here for $2999\", 'image': '5vthXfxXiBvcdhZRirjpnhDJJi14UqtR.jpg', 'label': 0}\n",
    "```"
   ]
  },
  {
   "cell_type": "code",
   "execution_count": 87,
   "metadata": {},
   "outputs": [],
   "source": [
    "import torch\n",
    "import torch.optim as optim\n",
    "import numpy as np\n",
    "import pandas as pd\n",
    "import matplotlib.pyplot as plt\n",
    "import random\n",
    "import os\n",
    "import csv\n",
    "import math\n",
    "import pickle\n",
    "import stanza\n",
    "import cv2\n",
    "import copy\n",
    "import seaborn as sns\n",
    "import time\n",
    "\n",
    "from glob import glob\n",
    "from PIL import Image\n",
    "from sklearn import metrics\n",
    "\n",
    "from os.path import basename, join\n",
    "from shutil import copyfile\n",
    "\n",
    "from torch.utils.data.sampler import BatchSampler, RandomSampler, Sampler, \\\n",
    "    SequentialSampler, SubsetRandomSampler\n",
    "from torch.utils.data import Dataset\n",
    "from torch.nn import functional\n",
    "from torch import nn\n",
    "from tqdm import tqdm\n",
    "from sklearn.metrics import accuracy_score, confusion_matrix, \\\n",
    "    precision_recall_fscore_support\n",
    "from sklearn.model_selection import train_test_split\n",
    "from sklearn.metrics.pairwise import cosine_similarity\n",
    "from collections import defaultdict, OrderedDict, Counter\n",
    "from json import load, dump\n",
    "from torchvision import datasets, models, transforms"
   ]
  },
  {
   "cell_type": "code",
   "execution_count": 90,
   "metadata": {},
   "outputs": [],
   "source": [
    "train_data = pickle.load(open('./data/fake-news-data/train_examples.pkl', 'rb'))\n",
    "test_data = pickle.load(open('./data/fake-news-data/test_examples.pkl', 'rb'))\n",
    "\n",
    "val_indexes = np.random.choice(range(len(train_data)),\n",
    "                               int(len(train_data) * 0.1),\n",
    "                               replace=False)\n",
    "train_indexes = list(set(range(len(train_data))).difference(set(val_indexes.tolist())))\n",
    "\n",
    "val_data = np.array(train_data)[val_indexes]\n",
    "train_data = np.array(train_data)[train_indexes]\n",
    "\n",
    "train_data_pairs = [[d['image'], - d['label'] + 1] for d in train_data]\n",
    "val_data_pairs = [[d['image'], - d['label'] + 1] for d in val_data]\n",
    "test_data_pairs = [[d['image'], - d['label'] + 1] for d in test_data]"
   ]
  },
  {
   "cell_type": "code",
   "execution_count": 91,
   "metadata": {},
   "outputs": [],
   "source": [
    "# for f in tqdm(glob('./data/fake-news-data/AAAI_dataset/Images/*/*')):\n",
    "#     name = basename(f)\n",
    "#     copyfile(f, './data/fake-news-data/images/{}'.format(name))"
   ]
  },
  {
   "cell_type": "code",
   "execution_count": 92,
   "metadata": {},
   "outputs": [
    {
     "data": {
      "text/plain": [
       "Counter({0: 7492, 1: 2010})"
      ]
     },
     "execution_count": 92,
     "metadata": {},
     "output_type": "execute_result"
    }
   ],
   "source": [
    "Counter([i[1] for i in train_data_pairs])"
   ]
  },
  {
   "cell_type": "code",
   "execution_count": 93,
   "metadata": {},
   "outputs": [],
   "source": [
    "class ImageDataset(Dataset):\n",
    "\n",
    "    def __init__(self, data_pairs, root_dir):\n",
    "        \"\"\"\n",
    "        Args:\n",
    "            tsv_file (string): Path to the train/test/dev split tsv file\n",
    "            root_dir (string): Directory with all the images.\n",
    "        \"\"\"\n",
    "        self.data_pairs = data_pairs\n",
    "        self.root_dir = root_dir\n",
    "        self.normalize = transforms.Normalize(mean=[0.485, 0.456, 0.406], std=[0.229, 0.224, 0.225])\n",
    "        self.resize = transforms.Resize(256)\n",
    "        self.center = transforms.CenterCrop(224)\n",
    "        self.to_tensor = transforms.ToTensor()\n",
    "\n",
    "    def __len__(self):\n",
    "        return len(self.data_pairs)\n",
    "\n",
    "    def __getitem__(self, idx):\n",
    "        if torch.is_tensor(idx):\n",
    "            idx = idx.tolist()\n",
    "\n",
    "        img_name = os.path.join(self.root_dir, self.data_pairs[idx][0])\n",
    "        \n",
    "        image = Image.open(img_name).convert('RGB')\n",
    "        \n",
    "        image = self.resize(image)\n",
    "        image = self.center(image)\n",
    "        \n",
    "        image = self.to_tensor(image)\n",
    "        image = self.normalize(image)\n",
    "        \n",
    "        # Get the label\n",
    "        label = self.data_pairs[idx][1]\n",
    "        \n",
    "        return image, label"
   ]
  },
  {
   "cell_type": "code",
   "execution_count": 94,
   "metadata": {},
   "outputs": [],
   "source": [
    "train_dataset = ImageDataset(train_data_pairs, './data/fake-news-data/images')\n",
    "val_dataset = ImageDataset(val_data_pairs, './data/fake-news-data/images')\n",
    "test_dataset = ImageDataset(test_data_pairs, './data/fake-news-data/images')\n",
    "\n",
    "batch_size = 32\n",
    "\n",
    "train_dataset_loader = torch.utils.data.DataLoader(train_dataset,\n",
    "                                                   batch_size=batch_size,\n",
    "                                                   shuffle=True,\n",
    "                                                   num_workers=4)\n",
    "val_dataset_loader = torch.utils.data.DataLoader(val_dataset,\n",
    "                                                 batch_size=batch_size,\n",
    "                                                 shuffle=True,\n",
    "                                                 num_workers=4)\n",
    "test_dataset_loader = torch.utils.data.DataLoader(test_dataset,\n",
    "                                                  batch_size=batch_size,\n",
    "                                                  shuffle=True,\n",
    "                                                  num_workers=4)"
   ]
  },
  {
   "cell_type": "code",
   "execution_count": 44,
   "metadata": {},
   "outputs": [
    {
     "name": "stdout",
     "output_type": "stream",
     "text": [
      "torch.Size([32, 3, 224, 224]) tensor(2.6400) tensor([1, 1, 1, 1, 1, 1, 1, 1, 0, 1, 1, 1, 0, 1, 1, 1, 1, 1, 1, 1, 1, 0, 1, 1,\n",
      "        0, 1, 1, 1, 1, 1, 0, 1])\n"
     ]
    }
   ],
   "source": [
    "for inputs, labels in train_dataset_loader:\n",
    "    print(inputs.shape, torch.max(inputs), labels)\n",
    "    break"
   ]
  },
  {
   "cell_type": "code",
   "execution_count": 45,
   "metadata": {},
   "outputs": [],
   "source": [
    "def train_model(model, dataloaders, criterion, optimizer, num_epochs=25, patience=20):\n",
    "    val_acc_history = []\n",
    "\n",
    "    best_model_wts = copy.deepcopy(model.state_dict())\n",
    "    best_acc = 0.0\n",
    "    \n",
    "    # Early stopping\n",
    "    es_counter = 0\n",
    "    es = False\n",
    "\n",
    "    for epoch in range(num_epochs):\n",
    "        if es:\n",
    "            break\n",
    "\n",
    "        print('Epoch {}/{}'.format(epoch, num_epochs - 1))\n",
    "        print('-' * 10)\n",
    "\n",
    "        # Each epoch has a training and validation phase\n",
    "        for phase in ['train', 'val']:\n",
    "            if phase == 'train':\n",
    "                model.train()  # Set model to training mode\n",
    "            else:\n",
    "                model.eval()   # Set model to evaluate mode\n",
    "\n",
    "            running_loss = 0.0\n",
    "            running_corrects = 0\n",
    "\n",
    "            # Iterate over data.\n",
    "            for inputs, labels in tqdm(dataloaders[phase], desc=phase):\n",
    "                inputs = inputs.to(device)\n",
    "                labels = labels.to(device)\n",
    "\n",
    "                # zero the parameter gradients\n",
    "                optimizer.zero_grad()\n",
    "\n",
    "                # forward\n",
    "                # track history if only in train\n",
    "                with torch.set_grad_enabled(phase == 'train'):\n",
    "                    # Get model outputs and calculate loss\n",
    "                    # Special case for inception because in training it has an auxiliary output. In train\n",
    "                    #   mode we calculate the loss by summing the final output and the auxiliary output\n",
    "                    #   but in testing we only consider the final output.\n",
    "\n",
    "                    outputs = model(inputs)\n",
    "                    loss = criterion(outputs, labels)\n",
    "\n",
    "                    _, preds = torch.max(outputs, 1)\n",
    "\n",
    "                    # backward + optimize only if in training phase\n",
    "                    if phase == 'train':\n",
    "                        loss.backward()\n",
    "                        optimizer.step()\n",
    "\n",
    "                # statistics\n",
    "                running_loss += loss.item() * inputs.size(0)\n",
    "                running_corrects += torch.sum(preds == labels.data)\n",
    "\n",
    "            epoch_loss = running_loss / len(dataloaders[phase].dataset)\n",
    "            epoch_acc = running_corrects.double() / len(dataloaders[phase].dataset)\n",
    "\n",
    "            print('{} Loss: {:.4f} Acc: {:.4f}'.format(phase, epoch_loss, epoch_acc))\n",
    "\n",
    "            # deep copy the model\n",
    "            if phase == 'val':\n",
    "                if epoch_acc > best_acc:\n",
    "                    best_acc = epoch_acc\n",
    "                    best_model_wts = copy.deepcopy(model.state_dict())\n",
    "                    es_counter = 0\n",
    "                else:\n",
    "                    es_counter += 1\n",
    "                    if es_counter > patience:\n",
    "                        es = True\n",
    "\n",
    "                val_acc_history.append(epoch_acc)\n",
    "\n",
    "        print()\n",
    "\n",
    "    print('Best val Acc: {:4f}'.format(best_acc))\n",
    "\n",
    "    # load best model weights\n",
    "    model.load_state_dict(best_model_wts)\n",
    "    return model, val_acc_history"
   ]
  },
  {
   "cell_type": "code",
   "execution_count": 46,
   "metadata": {},
   "outputs": [],
   "source": [
    "num_classes = 2\n",
    "# device = torch.device(\"cuda:0\" if torch.cuda.is_available() else \"cpu\")\n",
    "device = torch.device(\"cpu\")\n",
    "\n",
    "model = models.vgg16(pretrained=True)\n",
    "\n",
    "# Freeze model weights\n",
    "for param in model.parameters():\n",
    "    param.requires_grad = False\n",
    "    \n",
    "# Add on classifier\n",
    "model.classifier[6] = nn.Sequential(\n",
    "                      nn.Linear(4096, 256), \n",
    "                      nn.ReLU(), \n",
    "                      nn.Dropout(0.4),\n",
    "                      nn.Linear(256, num_classes))\n",
    "\n",
    "model = model.to(device)\n",
    "\n",
    "params_to_update = [p for p in model.parameters() if p.requires_grad]\n",
    "\n",
    "# Observe that all parameters are being optimized\n",
    "optimizer_ft = optim.Adam(params_to_update, lr=1e-4)\n",
    "criterion = nn.CrossEntropyLoss()"
   ]
  },
  {
   "cell_type": "code",
   "execution_count": 48,
   "metadata": {},
   "outputs": [],
   "source": [
    "# dataloaders = {'train': train_dataset_loader,\n",
    "#                'val': val_dataset_loader}\n",
    "\n",
    "# model, val_acc_history = train_model(model, dataloaders, criterion,\n",
    "#                                      optimizer_ft, num_epochs=50,\n",
    "#                                      patience=10)\n",
    "\n",
    "# torch.save(model.state_dict(), './output/best_weights_fake.pk')\n",
    "# # dump(val_acc_history, open('./output/val_acc_history.json', 'w'))"
   ]
  },
  {
   "cell_type": "markdown",
   "metadata": {},
   "source": [
    "## Analysis"
   ]
  },
  {
   "cell_type": "code",
   "execution_count": 88,
   "metadata": {},
   "outputs": [],
   "source": [
    "model = models.vgg16(pretrained=True)\n",
    "\n",
    "num_classes = 2\n",
    "\n",
    "# Freeze model weights\n",
    "for param in model.parameters():\n",
    "    param.requires_grad = False\n",
    "    \n",
    "# Add on classifier\n",
    "model.classifier[6] = nn.Sequential(\n",
    "                      nn.Linear(4096, 256), \n",
    "                      nn.ReLU(), \n",
    "                      nn.Dropout(0.4),\n",
    "                      nn.Linear(256, num_classes))\n",
    "\n",
    "model.load_state_dict(torch.load('./output/best_weights_fake.pk'))\n",
    "criterion = nn.CrossEntropyLoss()"
   ]
  },
  {
   "cell_type": "code",
   "execution_count": 95,
   "metadata": {},
   "outputs": [
    {
     "name": "stderr",
     "output_type": "stream",
     "text": [
      " 25%|██▌       | 21/84 [00:39<01:45,  1.67s/it]/nethome/zwang3049/jay/miniconda3/envs/nlp/lib/python3.7/site-packages/PIL/TiffImagePlugin.py:785: UserWarning: Corrupt EXIF data.  Expecting to read 4 bytes but only got 0. \n",
      "  warnings.warn(str(msg))\n",
      "/nethome/zwang3049/jay/miniconda3/envs/nlp/lib/python3.7/site-packages/PIL/Image.py:961: UserWarning: Palette images with Transparency expressed in bytes should be converted to RGBA images\n",
      "  \"Palette images with Transparency expressed in bytes should be \"\n",
      " 43%|████▎     | 36/84 [01:07<01:25,  1.79s/it]/nethome/zwang3049/jay/miniconda3/envs/nlp/lib/python3.7/site-packages/PIL/Image.py:961: UserWarning: Palette images with Transparency expressed in bytes should be converted to RGBA images\n",
      "  \"Palette images with Transparency expressed in bytes should be \"\n",
      "100%|██████████| 84/84 [02:30<00:00,  1.79s/it]\n"
     ]
    }
   ],
   "source": [
    "predictions = []\n",
    "true_labels = []\n",
    "device = torch.device('cpu')\n",
    "\n",
    "for inputs, labels in tqdm(test_dataset_loader):\n",
    "    inputs = inputs.to(device)\n",
    "    labels = labels.to(device)\n",
    "\n",
    "\n",
    "    outputs = model(inputs)\n",
    "    loss = criterion(outputs, labels)\n",
    "\n",
    "    _, preds = torch.max(outputs, 1)\n",
    "    \n",
    "    predictions.extend(preds.cpu().numpy().tolist())\n",
    "    true_labels.extend(labels.cpu().numpy().tolist())\n",
    "\n"
   ]
  },
  {
   "cell_type": "code",
   "execution_count": 96,
   "metadata": {},
   "outputs": [
    {
     "data": {
      "image/png": "[encoded data removed]",
      "text/plain": [
       "<Figure size 432x288 with 2 Axes>"
      ]
     },
     "metadata": {
      "needs_background": "light"
     },
     "output_type": "display_data"
    }
   ],
   "source": [
    "import seaborn as sns;\n",
    "\n",
    "confusion = metrics.confusion_matrix(true_labels, predictions)\n",
    "\n",
    "ticks = ['not fake', 'fake']\n",
    "\n",
    "plt.title('Confusion Matrix')\n",
    "ax = sns.heatmap(confusion, annot=True, fmt=\"d\", cmap=\"YlGnBu\", square=True,\n",
    "                 xticklabels=ticks, yticklabels=ticks)"
   ]
  },
  {
   "cell_type": "code",
   "execution_count": 97,
   "metadata": {},
   "outputs": [
    {
     "name": "stdout",
     "output_type": "stream",
     "text": [
      "0.8116858950502419 0.15384615384615385 0.5411764705882353 0.08966861598440545\n"
     ]
    }
   ],
   "source": [
    "print(\n",
    "    metrics.accuracy_score(true_labels, predictions),\n",
    "    metrics.f1_score(true_labels, predictions, average='binary'),\n",
    "    metrics.precision_score(true_labels, predictions, average='binary'),\n",
    "    metrics.recall_score(true_labels, predictions, average='binary'),\n",
    ")"
   ]
  },
  {
   "cell_type": "code",
   "execution_count": 98,
   "metadata": {},
   "outputs": [],
   "source": [
    "train_data = pickle.load(open('./data/fake-news-data/train_examples.pkl', 'rb'))\n",
    "test_data = pickle.load(open('./data/fake-news-data/test_examples.pkl', 'rb'))\n",
    "\n",
    "# val_indexes = np.random.choice(range(len(train_data)),\n",
    "#                                int(len(train_data) * 0.1),\n",
    "#                                replace=False)\n",
    "# train_indexes = list(set(range(len(train_data))).difference(set(val_indexes.tolist())))\n",
    "\n",
    "# val_data = np.array(train_data)[val_indexes]\n",
    "# train_data = np.array(train_data)[train_indexes]\n",
    "\n",
    "train_data_pairs = [[d['image'], 1 - d['label']] for d in train_data]\n",
    "# val_data_pairs = [[d['image'], d['label']] for d in val_data]\n",
    "test_data_pairs = [[d['image'], 1 - d['label']] for d in test_data]"
   ]
  },
  {
   "cell_type": "code",
   "execution_count": 99,
   "metadata": {},
   "outputs": [
    {
     "data": {
      "text/plain": [
       "{'title': 'Kylie Jenner refusing to discuss Tyga on Life of Kylie',\n",
       " 'image': '4muaHBEpDomEuc353G1ROLrfA5RbkmaI.jpg',\n",
       " 'label': 1}"
      ]
     },
     "execution_count": 99,
     "metadata": {},
     "output_type": "execute_result"
    }
   ],
   "source": [
    "train_data[0]"
   ]
  },
  {
   "cell_type": "code",
   "execution_count": 100,
   "metadata": {},
   "outputs": [],
   "source": [
    "class ImageDataset(Dataset):\n",
    "\n",
    "    def __init__(self, data_pairs, root_dir):\n",
    "        \"\"\"\n",
    "        Args:\n",
    "            tsv_file (string): Path to the train/test/dev split tsv file\n",
    "            root_dir (string): Directory with all the images.\n",
    "        \"\"\"\n",
    "        self.data_pairs = data_pairs\n",
    "        self.root_dir = root_dir\n",
    "        self.normalize = transforms.Normalize(mean=[0.485, 0.456, 0.406], std=[0.229, 0.224, 0.225])\n",
    "        self.resize = transforms.Resize(256)\n",
    "        self.center = transforms.CenterCrop(224)\n",
    "        self.to_tensor = transforms.ToTensor()\n",
    "\n",
    "    def __len__(self):\n",
    "        return len(self.data_pairs)\n",
    "\n",
    "    def __getitem__(self, idx):\n",
    "        if torch.is_tensor(idx):\n",
    "            idx = idx.tolist()\n",
    "\n",
    "        img_name = os.path.join(self.root_dir, self.data_pairs[idx][0])\n",
    "        \n",
    "        image = Image.open(img_name).convert('RGB')\n",
    "        \n",
    "        image = self.resize(image)\n",
    "        image = self.center(image)\n",
    "        \n",
    "        image = self.to_tensor(image)\n",
    "        image = self.normalize(image)\n",
    "        \n",
    "        # Get the label\n",
    "        label = self.data_pairs[idx][1]\n",
    "        \n",
    "        # Get the id\n",
    "        image_id = self.data_pairs[idx][0].replace('.jpg', '')\n",
    "        \n",
    "        return image, label, image_id"
   ]
  },
  {
   "cell_type": "code",
   "execution_count": 101,
   "metadata": {},
   "outputs": [],
   "source": [
    "train_dataset = ImageDataset(train_data_pairs, './data/fake-news-data/images')\n",
    "# val_dataset = ImageDataset(val_data_pairs, './data/images')\n",
    "test_dataset = ImageDataset(test_data_pairs, './data/fake-news-data/images')\n",
    "\n",
    "batch_size = 32\n",
    "\n",
    "train_dataset_loader = torch.utils.data.DataLoader(train_dataset,\n",
    "                                                   batch_size=batch_size,\n",
    "                                                   shuffle=True,\n",
    "                                                   num_workers=4)\n",
    "# val_dataset_loader = torch.utils.data.DataLoader(val_dataset,\n",
    "#                                                  batch_size=batch_size,\n",
    "#                                                  shuffle=True,\n",
    "#                                                  num_workers=4)\n",
    "test_dataset_loader = torch.utils.data.DataLoader(test_dataset,\n",
    "                                                  batch_size=batch_size,\n",
    "                                                  shuffle=True,\n",
    "                                                  num_workers=4)"
   ]
  },
  {
   "cell_type": "code",
   "execution_count": 102,
   "metadata": {},
   "outputs": [
    {
     "name": "stderr",
     "output_type": "stream",
     "text": [
      "  9%|▉         | 31/330 [00:59<08:31,  1.71s/it]/nethome/zwang3049/jay/miniconda3/envs/nlp/lib/python3.7/site-packages/PIL/Image.py:961: UserWarning: Palette images with Transparency expressed in bytes should be converted to RGBA images\n",
      "  \"Palette images with Transparency expressed in bytes should be \"\n",
      " 12%|█▏        | 38/330 [01:12<08:33,  1.76s/it]/nethome/zwang3049/jay/miniconda3/envs/nlp/lib/python3.7/site-packages/PIL/Image.py:961: UserWarning: Palette images with Transparency expressed in bytes should be converted to RGBA images\n",
      "  \"Palette images with Transparency expressed in bytes should be \"\n",
      " 17%|█▋        | 56/330 [01:43<08:06,  1.78s/it]/nethome/zwang3049/jay/miniconda3/envs/nlp/lib/python3.7/site-packages/PIL/Image.py:961: UserWarning: Palette images with Transparency expressed in bytes should be converted to RGBA images\n",
      "  \"Palette images with Transparency expressed in bytes should be \"\n",
      " 20%|█▉        | 65/330 [01:58<07:28,  1.69s/it]/nethome/zwang3049/jay/miniconda3/envs/nlp/lib/python3.7/site-packages/PIL/Image.py:961: UserWarning: Palette images with Transparency expressed in bytes should be converted to RGBA images\n",
      "  \"Palette images with Transparency expressed in bytes should be \"\n",
      "100%|██████████| 330/330 [10:54<00:00,  1.98s/it]\n"
     ]
    }
   ],
   "source": [
    "model = models.vgg16(pretrained=True)\n",
    "num_classes = 2\n",
    "\n",
    "# Freeze model weights\n",
    "for param in model.parameters():\n",
    "    param.requires_grad = False\n",
    "    \n",
    "# Add on classifier\n",
    "model.classifier[6] = nn.Sequential(\n",
    "                      nn.Linear(4096, 256), \n",
    "                      nn.ReLU(), \n",
    "                      nn.Dropout(0.4),\n",
    "                      nn.Linear(256, num_classes))\n",
    "\n",
    "model.load_state_dict(torch.load('./output/best_weights_fake.pk'))\n",
    "\n",
    "output_256 = []\n",
    "output_256_tid = []\n",
    "\n",
    "def get_output(self, input, output):\n",
    "    cur_output = output.data.detach().cpu().numpy()\n",
    "    for i in range(cur_output.shape[0]):\n",
    "        output_256.append(cur_output[i, :])\n",
    "\n",
    "model.classifier._modules['6'][0].register_forward_hook(get_output)\n",
    "\n",
    "for inputs, labels, tids in tqdm(train_dataset_loader):\n",
    "    inputs = inputs\n",
    "    labels = labels\n",
    "    output_256_tid.extend(list(tids))\n",
    "\n",
    "    outputs = model(inputs)\n",
    "\n"
   ]
  },
  {
   "cell_type": "code",
   "execution_count": 104,
   "metadata": {},
   "outputs": [],
   "source": [
    "np.savez_compressed('./data/fake-news/image_embedding_256_train.npz',\n",
    "                    image_embedding=output_256,\n",
    "                    image_ID=output_256_tid)"
   ]
  },
  {
   "cell_type": "code",
   "execution_count": 105,
   "metadata": {},
   "outputs": [
    {
     "name": "stderr",
     "output_type": "stream",
     "text": [
      "  0%|          | 0/84 [00:00<?, ?it/s]/nethome/zwang3049/jay/miniconda3/envs/nlp/lib/python3.7/site-packages/PIL/Image.py:961: UserWarning: Palette images with Transparency expressed in bytes should be converted to RGBA images\n",
      "  \"Palette images with Transparency expressed in bytes should be \"\n",
      " 51%|█████     | 43/84 [01:16<01:10,  1.73s/it]/nethome/zwang3049/jay/miniconda3/envs/nlp/lib/python3.7/site-packages/PIL/Image.py:961: UserWarning: Palette images with Transparency expressed in bytes should be converted to RGBA images\n",
      "  \"Palette images with Transparency expressed in bytes should be \"\n",
      " 60%|█████▉    | 50/84 [01:28<00:58,  1.71s/it]/nethome/zwang3049/jay/miniconda3/envs/nlp/lib/python3.7/site-packages/PIL/Image.py:961: UserWarning: Palette images with Transparency expressed in bytes should be converted to RGBA images\n",
      "  \"Palette images with Transparency expressed in bytes should be \"\n",
      " 86%|████████▌ | 72/84 [02:06<00:21,  1.76s/it]/nethome/zwang3049/jay/miniconda3/envs/nlp/lib/python3.7/site-packages/PIL/TiffImagePlugin.py:785: UserWarning: Corrupt EXIF data.  Expecting to read 4 bytes but only got 0. \n",
      "  warnings.warn(str(msg))\n",
      "100%|██████████| 84/84 [02:27<00:00,  1.75s/it]\n"
     ]
    }
   ],
   "source": [
    "model = models.vgg16(pretrained=True)\n",
    "num_classes = 2\n",
    "\n",
    "# Freeze model weights\n",
    "for param in model.parameters():\n",
    "    param.requires_grad = False\n",
    "    \n",
    "# Add on classifier\n",
    "model.classifier[6] = nn.Sequential(\n",
    "                      nn.Linear(4096, 256), \n",
    "                      nn.ReLU(), \n",
    "                      nn.Dropout(0.4),\n",
    "                      nn.Linear(256, num_classes))\n",
    "\n",
    "model.load_state_dict(torch.load('./output/best_weights_fake.pk'))\n",
    "\n",
    "output_256 = []\n",
    "output_256_tid = []\n",
    "\n",
    "def get_output(self, input, output):\n",
    "    cur_output = output.data.detach().cpu().numpy()\n",
    "    for i in range(cur_output.shape[0]):\n",
    "        output_256.append(cur_output[i, :])\n",
    "\n",
    "model.classifier._modules['6'][0].register_forward_hook(get_output)\n",
    "\n",
    "for inputs, labels, tids in tqdm(test_dataset_loader):\n",
    "    inputs = inputs\n",
    "    labels = labels\n",
    "    output_256_tid.extend(list(tids))\n",
    "\n",
    "    outputs = model(inputs)\n",
    "\n",
    "np.savez_compressed('./data/fake-news/image_embedding_256_test.npz',\n",
    "                    image_embedding=output_256,\n",
    "                    image_ID=output_256_tid)"
   ]
  },
  {
   "cell_type": "markdown",
   "metadata": {},
   "source": [
    "### Prob"
   ]
  },
  {
   "cell_type": "code",
   "execution_count": 107,
   "metadata": {},
   "outputs": [
    {
     "data": {
      "text/plain": [
       "<All keys matched successfully>"
      ]
     },
     "execution_count": 107,
     "metadata": {},
     "output_type": "execute_result"
    }
   ],
   "source": [
    "model = models.vgg16(pretrained=True)\n",
    "\n",
    "# Freeze model weights\n",
    "for param in model.parameters():\n",
    "    param.requires_grad = False\n",
    "    \n",
    "# Add on classifier\n",
    "model.classifier[6] = nn.Sequential(\n",
    "                      nn.Linear(4096, 256), \n",
    "                      nn.ReLU(), \n",
    "                      nn.Dropout(0.4),\n",
    "                      nn.Linear(256, 2))\n",
    "\n",
    "model.load_state_dict(torch.load('./output/best_weights_fake.pk'))"
   ]
  },
  {
   "cell_type": "code",
   "execution_count": 108,
   "metadata": {},
   "outputs": [
    {
     "name": "stderr",
     "output_type": "stream",
     "text": [
      "  0%|          | 0/84 [00:00<?, ?it/s]/nethome/zwang3049/jay/miniconda3/envs/nlp/lib/python3.7/site-packages/PIL/Image.py:961: UserWarning: Palette images with Transparency expressed in bytes should be converted to RGBA images\n",
      "  \"Palette images with Transparency expressed in bytes should be \"\n",
      " 14%|█▍        | 12/84 [00:21<02:03,  1.72s/it]/nethome/zwang3049/jay/miniconda3/envs/nlp/lib/python3.7/site-packages/PIL/Image.py:961: UserWarning: Palette images with Transparency expressed in bytes should be converted to RGBA images\n",
      "  \"Palette images with Transparency expressed in bytes should be \"\n",
      " 42%|████▏     | 35/84 [01:02<01:27,  1.79s/it]/nethome/zwang3049/jay/miniconda3/envs/nlp/lib/python3.7/site-packages/PIL/TiffImagePlugin.py:785: UserWarning: Corrupt EXIF data.  Expecting to read 4 bytes but only got 0. \n",
      "  warnings.warn(str(msg))\n",
      "100%|██████████| 84/84 [02:27<00:00,  1.75s/it]\n"
     ]
    }
   ],
   "source": [
    "# Test set\n",
    "\n",
    "test_probs = []\n",
    "test_probs_tids = []\n",
    "\n",
    "for inputs, labels, tids in tqdm(test_dataset_loader):\n",
    "    inputs = inputs\n",
    "    labels = labels\n",
    "\n",
    "    outputs = model(inputs)\n",
    "    softmax_outputs = nn.functional.softmax(outputs, dim=1).detach().cpu().numpy()\n",
    "    test_probs.append(softmax_outputs)\n",
    "    \n",
    "    test_probs_tids.extend(list(tids))\n",
    "\n",
    "test_probs = np.vstack(test_probs)"
   ]
  },
  {
   "cell_type": "code",
   "execution_count": 109,
   "metadata": {},
   "outputs": [],
   "source": [
    "np.savez_compressed('./data/fake-news/image_predict_probs_test.npz',\n",
    "                    predict_probs=test_probs,\n",
    "                    image_id=test_probs_tids)"
   ]
  },
  {
   "cell_type": "code",
   "execution_count": 110,
   "metadata": {},
   "outputs": [
    {
     "name": "stderr",
     "output_type": "stream",
     "text": [
      " 32%|███▏      | 106/330 [03:14<07:06,  1.90s/it]/nethome/zwang3049/jay/miniconda3/envs/nlp/lib/python3.7/site-packages/PIL/Image.py:961: UserWarning: Palette images with Transparency expressed in bytes should be converted to RGBA images\n",
      "  \"Palette images with Transparency expressed in bytes should be \"\n",
      " 45%|████▍     | 147/330 [04:27<05:34,  1.83s/it]/nethome/zwang3049/jay/miniconda3/envs/nlp/lib/python3.7/site-packages/PIL/Image.py:961: UserWarning: Palette images with Transparency expressed in bytes should be converted to RGBA images\n",
      "  \"Palette images with Transparency expressed in bytes should be \"\n",
      " 55%|█████▍    | 180/330 [05:29<04:48,  1.92s/it]/nethome/zwang3049/jay/miniconda3/envs/nlp/lib/python3.7/site-packages/PIL/Image.py:961: UserWarning: Palette images with Transparency expressed in bytes should be converted to RGBA images\n",
      "  \"Palette images with Transparency expressed in bytes should be \"\n",
      " 68%|██████▊   | 225/330 [06:51<03:05,  1.77s/it]/nethome/zwang3049/jay/miniconda3/envs/nlp/lib/python3.7/site-packages/PIL/Image.py:961: UserWarning: Palette images with Transparency expressed in bytes should be converted to RGBA images\n",
      "  \"Palette images with Transparency expressed in bytes should be \"\n",
      "100%|██████████| 330/330 [10:02<00:00,  1.83s/it]\n",
      "/nethome/zwang3049/jay/miniconda3/envs/nlp/lib/python3.7/site-packages/numpy/core/_asarray.py:136: VisibleDeprecationWarning: Creating an ndarray from ragged nested sequences (which is a list-or-tuple of lists-or-tuples-or ndarrays with different lengths or shapes) is deprecated. If you meant to do this, you must specify 'dtype=object' when creating the ndarray\n",
      "  return array(a, dtype, copy=False, order=order, subok=True)\n"
     ]
    }
   ],
   "source": [
    "# Test set\n",
    "\n",
    "val_probs = []\n",
    "val_probs_tids = []\n",
    "\n",
    "for inputs, labels, tids in tqdm(train_dataset_loader):\n",
    "    inputs = inputs\n",
    "    labels = labels\n",
    "\n",
    "    outputs = model(inputs)\n",
    "    softmax_outputs = nn.functional.softmax(outputs, dim=1).detach().cpu().numpy()\n",
    "    val_probs.append(softmax_outputs)\n",
    "    \n",
    "    val_probs_tids.extend(list(tids))\n",
    "\n",
    "val_probs_tids = np.vstack(val_probs_tids)\n",
    "\n",
    "np.savez_compressed('./data/sentiment/image_predict_probs_train.npz',\n",
    "                    predict_probs=val_probs,\n",
    "                    image_id=val_probs_tids)"
   ]
  },
  {
   "cell_type": "code",
   "execution_count": 29,
   "metadata": {},
   "outputs": [
    {
     "name": "stderr",
     "output_type": "stream",
     "text": [
      "100%|██████████| 81/81 [02:34<00:00,  1.90s/it]\n",
      "/nethome/zwang3049/jay/miniconda3/envs/nlp/lib/python3.7/site-packages/numpy/core/_asarray.py:136: VisibleDeprecationWarning: Creating an ndarray from ragged nested sequences (which is a list-or-tuple of lists-or-tuples-or ndarrays with different lengths or shapes) is deprecated. If you meant to do this, you must specify 'dtype=object' when creating the ndarray\n",
      "  return array(a, dtype, copy=False, order=order, subok=True)\n"
     ]
    }
   ],
   "source": []
  },
  {
   "cell_type": "code",
   "execution_count": null,
   "metadata": {},
   "outputs": [],
   "source": []
  }
 ],
 "metadata": {
  "kernelspec": {
   "display_name": "nlp",
   "language": "python",
   "name": "nlp"
  },
  "language_info": {
   "codemirror_mode": {
    "name": "ipython",
    "version": 3
   },
   "file_extension": ".py",
   "mimetype": "text/x-python",
   "name": "python",
   "nbconvert_exporter": "python",
   "pygments_lexer": "ipython3",
   "version": "3.7.9"
  }
 },
 "nbformat": 4,
 "nbformat_minor": 4
}
